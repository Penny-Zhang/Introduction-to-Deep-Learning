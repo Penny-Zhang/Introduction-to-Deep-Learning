{
 "cells": [
  {
   "cell_type": "markdown",
   "metadata": {},
   "source": [
    "# Cifar10 Classification"
   ]
  },
  {
   "cell_type": "markdown",
   "metadata": {},
   "source": [
    "Until now, we have implemented several pieces of a deep learning pipeline and even trained a two-layer neural network, but all the hyperparameters were already set to some values yielding resonable results. In real-life problems, however, much of the work in a deep learning project will be geared towards finding the best hyperparameters for a certain problem. In this notebook we will explore some good practices for network debugging and hyperparameters search, as well as extending our previously binary classification neural network to a multi-class one.\n",
    "\n",
    "Let's go!"
   ]
  },
  {
   "cell_type": "code",
   "execution_count": 1,
   "metadata": {},
   "outputs": [],
   "source": [
    "# Some lengthy setup.\n",
    "import matplotlib.pyplot as plt\n",
    "import numpy as np\n",
    "import os\n",
    "\n",
    "from exercise_code.networks.layer import (\n",
    "    Sigmoid, \n",
    "    Relu, \n",
    "    LeakyRelu, \n",
    "    Tanh,\n",
    ")\n",
    "from exercise_code.data import (\n",
    "    DataLoader,\n",
    "    ImageFolderDataset,\n",
    "    RescaleTransform,\n",
    "    NormalizeTransform,\n",
    "    FlattenTransform,\n",
    "    ComposeTransform,\n",
    ")\n",
    "from exercise_code.data.image_folder_dataset import RandomHorizontalFlip\n",
    "from exercise_code.networks import (\n",
    "    ClassificationNet,\n",
    "    BCE,\n",
    "    CrossEntropyFromLogits\n",
    ")\n",
    "\n",
    "%load_ext autoreload\n",
    "%autoreload 2\n",
    "%matplotlib inline\n",
    "\n",
    "plt.rcParams['figure.figsize'] = (10.0, 8.0) # set default size of plots\n",
    "plt.rcParams['image.interpolation'] = 'nearest'\n",
    "plt.rcParams['image.cmap'] = 'gray'"
   ]
  },
  {
   "cell_type": "markdown",
   "metadata": {},
   "source": [
    "# 1. Quick recap (and some new things)"
   ]
  },
  {
   "cell_type": "markdown",
   "metadata": {},
   "source": [
    "Until now, in the previous exercises, we focused on building and understanding all the necessary modules for training a simple model. We followed the Pytorch implementations closely, as this is the framework we will use later and we want you to have a smoother transition to its APIs. \n",
    "\n",
    "In the figure below you can see the main components in Pytorch. Before starting the actual exercise, we begin with a quick recap of **our implementation** of these components. \n",
    "\n",
    "<div class=\"alert alert-success\">\n",
    "    <h3>Task: Check Code</h3>\n",
    "    <p>Everything is already implemented for this part, but we <b>strongly</b> encourage you to check out the respective source files in order to have a better understanding. </p>\n",
    "</div>"
   ]
  },
  {
   "cell_type": "markdown",
   "metadata": {},
   "source": [
    "<img src=\"https://cdn-images-1.medium.com/max/800/1*uZrS4KjAuSJQIJPgOiaJUg.png\" style=\"width: 500px;\">"
   ]
  },
  {
   "cell_type": "markdown",
   "metadata": {},
   "source": [
    "## 1.1 Dataset and Dataloader"
   ]
  },
  {
   "cell_type": "markdown",
   "metadata": {},
   "source": [
    "Data preparation represents an important part of deep learning projects. The data comes from different sources and in different formats and is prepared differently from application to application. One part, however, is clear: because entire datasets are usually too large for us to handle at once, we train our models on smaller batches of data. \n",
    "\n",
    "The goal of the ```Dataset``` class is to encapsulate all the 'dirty' data processing: loading and cleaning the data, storing features (or names of files where features can be found) and labels, as well as providing the means for accessing individual (transformed) items of the data using the ```__getitem__()``` function and an index. You already implemented an ```ImageFolderDataset``` (in ```exercise_code/data/image_folder_dataset.py```) class in Exercise 3. We we will reuse this class here.\n",
    "\n",
    "For processing the data, you implemented several transforms in Exercise 3 (```RescaleTransform```, ```NormalizeTransform```, ```ComposeTransform```). In this exercise we are working with images, which are multidimensional arrays, but we are using simple feedforward neural network which takes a one dimensional array as an input, so it is necessary to reshape the images before feeding them into the model. \n",
    "\n",
    "<div class=\"alert alert-success\">\n",
    "    <h3>Task: Check Code</h3>\n",
    "    <p>Please check the implementation of the reshape operation in the <code>FlattenTransform</code> class, which can be found in <code>../exercise_06/exercise_code/data/image_folder_dataset.py</code>. </p>\n",
    "</div>"
   ]
  },
  {
   "cell_type": "code",
   "execution_count": 2,
   "metadata": {},
   "outputs": [],
   "source": [
    "download_url = \"https://i2dl.vc.in.tum.de/static/data/cifar10.zip\"\n",
    "i2dl_exercises_path = os.path.dirname(os.path.abspath(os.getcwd()))\n",
    "cifar_root = os.path.join(i2dl_exercises_path, \"datasets\", \"cifar10\")\n",
    "\n",
    "# Use the Cifar10 mean and standard deviation computed in Exercise 3.\n",
    "cifar_mean = np.array([0.49191375, 0.48235852, 0.44673872])\n",
    "cifar_std  = np.array([0.24706447, 0.24346213, 0.26147554])\n",
    "\n",
    "# Define all the transforms we will apply on the images when \n",
    "# retrieving them.\n",
    "rescale_transform = RescaleTransform()\n",
    "normalize_transform = NormalizeTransform(\n",
    "    mean=cifar_mean,\n",
    "    std=cifar_std\n",
    ")\n",
    "flatten_transform = FlattenTransform()\n",
    "compose_transform = ComposeTransform([rescale_transform, \n",
    "                                      normalize_transform,\n",
    "                                      flatten_transform])\n",
    "\n",
    "# Create a train, validation and test dataset.\n",
    "datasets = {}\n",
    "for mode in ['train', 'val', 'test']:\n",
    "    crt_dataset = ImageFolderDataset(\n",
    "        mode=mode,\n",
    "        root=cifar_root, \n",
    "        download_url=download_url,\n",
    "        transform=compose_transform,\n",
    "        split={'train': 0.6, 'val': 0.2, 'test': 0.2}\n",
    "    )\n",
    "    datasets[mode] = crt_dataset"
   ]
  },
  {
   "cell_type": "markdown",
   "metadata": {},
   "source": [
    "Then, based on this ```Dataset``` object, we can construct a ```Dataloader``` object which samples a random mini-batch of data at once. "
   ]
  },
  {
   "cell_type": "code",
   "execution_count": 3,
   "metadata": {},
   "outputs": [],
   "source": [
    "# Create a dataloader for each split.\n",
    "dataloaders = {}\n",
    "for mode in ['train', 'val', 'test']:\n",
    "    crt_dataloader = DataLoader(\n",
    "        dataset=datasets[mode],\n",
    "        batch_size=256,\n",
    "        shuffle=True,\n",
    "        drop_last=True,\n",
    "    )\n",
    "    dataloaders[mode] = crt_dataloader"
   ]
  },
  {
   "cell_type": "markdown",
   "metadata": {},
   "source": [
    "Because the ```Dataloader``` has the ```__iter__()``` method, we can simply iterate through the batches it produces, like this:\n",
    "\n",
    "```python\n",
    "for batch in dataloader['train']:\n",
    "    do_something(batch)\n",
    "```"
   ]
  },
  {
   "cell_type": "markdown",
   "metadata": {},
   "source": [
    "## 1.2 Data Augmentation\n",
    "\n",
    "After the above preprocessing steps, our data is in a good shape and ready to be fed into our network. As explained in the chapter above, we used the transformation functions `RescaleTransform`, `NormalizeTransform` and `FlattenTransform` to achieve this shape. These are the general steps that you need to perform on the data before we can even start the training. Of course, all these steps have to be applied to all three splits of our dataset (train, val and test split). So in other words, preprocessing involves preparing the data before they are used in training and inference. \n",
    "\n",
    "Besides these basic transformations, there are many other transformation methods that you can apply to the images. For example, you can <b>flip the images horizontally</b> or <b>blur the image</b> and use these new images to enlarge your dataset. This idea is called Data Augmentation and it involves methods that alter the training images to generate a synthetic dataset that is larger than your original dataset and will hopefully improve the performance of your model. The purpose here is different than in the data preprocessing steps and there is one big difference between data augmentation and data preprocessing: The transformation methods to enlarge your dataset should only be applied to the training data. The validation and test data are not affected by these methods.\n",
    "\n",
    "<div class=\"alert alert-success\">\n",
    "    <h3>Task: Check Code</h3>\n",
    "    <p>The choice of transformation methods to use for data augmentation can be seen as a hyperparameter of your model and you can try to include these to enlarge your training data and obtain better results for your model. In <code>exercise_code/data/image_folder_dataset.py</code> we implemented the function <code>RandomHorizontalFlip</code> for you, which is randomly flipping an image. Check out the implementation.</p>\n",
    "    <p> Later, we will apply some hyperparameter tuning and in order to improve your model's accuracy, you could try to include some data augmentation methods. Fell free to play around and maybe also implement some other methods as for example Gaussian Blur or Rotation. </p>       \n",
    "</div>\n",
    "\n",
    "Let us quickly check out the `RandomHorizontalFlip` method with an image of the Cifar10 dataset in the following cell."
   ]
  },
  {
   "cell_type": "code",
   "execution_count": 4,
   "metadata": {},
   "outputs": [
    {
     "data": {
      "image/png": "[encoded data removed]",
      "text/plain": [
       "<Figure size 144x144 with 2 Axes>"
      ]
     },
     "metadata": {
      "needs_background": "light"
     },
     "output_type": "display_data"
    }
   ],
   "source": [
    "#Load the data in a dataset without any transformation \n",
    "dataset = ImageFolderDataset(\n",
    "        mode=mode,\n",
    "        root=cifar_root, \n",
    "        download_url=download_url,\n",
    "        split={'train': 0.6, 'val': 0.2, 'test': 0.2},\n",
    "    )\n",
    "\n",
    "#Retrieve an image from the dataset and flip it\n",
    "image = dataset[1]['image']\n",
    "transform = RandomHorizontalFlip(1)\n",
    "image_flipped = transform(image)\n",
    "\n",
    "#Show the two images\n",
    "plt.figure(figsize = (2,2))\n",
    "plt.subplot(1, 2, 1)\n",
    "plt.imshow(image.astype('uint8'))\n",
    "plt.axis('off')\n",
    "plt.subplot(1, 2, 2)\n",
    "plt.imshow(image_flipped.astype('uint8'))\n",
    "plt.axis('off')\n",
    "plt.title(\"Left: Original Image, Right: Flipped image\")\n",
    "plt.show()"
   ]
  },
  {
   "cell_type": "markdown",
   "metadata": {},
   "source": [
    "## 1.3 Layers\n",
    "\n",
    "Now, that the data is prepared, we can discuss the model in which we are feeding the data. In our case the model will be a neural network. \n",
    "\n",
    "In Exercise 5, you implemented a simple 2-layer neural network that had a hidden size as a parameter:\n",
    "\n",
    "$$ \n",
    "{\\hat{y}} = \\sigma(\\sigma({x W_1} + {b_1}) {W_2} + {b_2}) \n",
    "$$\n",
    "\n",
    "where $ \\sigma({x}) $ was the sigmoid function, $ {x} $ was the input, $ {W_1}, {W_2} $ the weight matrices and $ {b_1}, {b_2}$ the biases for the two layers.\n",
    "\n",
    "This is how we used this network:"
   ]
  },
  {
   "cell_type": "code",
   "execution_count": 5,
   "metadata": {},
   "outputs": [],
   "source": [
    "input_size = datasets['train'][0]['image'].shape[0]\n",
    "model = ClassificationNet(input_size=input_size, \n",
    "                          hidden_size=512)"
   ]
  },
  {
   "cell_type": "markdown",
   "metadata": {},
   "source": [
    "Note that we updated the ```ClassificationNet``` from the previous exercise, so that now you can customize more: the number of outputs, the choice of activation function, the hidden size etc. We encourage you to check out the implementation in ```exercise_code/networks/classification_net.py``` "
   ]
  },
  {
   "cell_type": "code",
   "execution_count": 6,
   "metadata": {},
   "outputs": [],
   "source": [
    "num_layer = 2\n",
    "reg = 0.1\n",
    "\n",
    "model = ClassificationNet(activation=Sigmoid(), \n",
    "                          num_layer=num_layer, \n",
    "                          reg=reg,\n",
    "                          num_classes=10)"
   ]
  },
  {
   "cell_type": "markdown",
   "metadata": {},
   "source": [
    "Then, the forward and backward passes through the model were simply:\n",
    "\n",
    "```python\n",
    "\n",
    "# X is a batch of training features \n",
    "# X.shape = (batch_size, features_size)\n",
    "y_out = model.forward(X)\n",
    "\n",
    "# dout is the gradient of the loss function w.r.t the output of the network.\n",
    "# dout.shape = (batch_size, )\n",
    "model.backward(dout)\n",
    "```"
   ]
  },
  {
   "cell_type": "markdown",
   "metadata": {},
   "source": [
    "Just as the learning rate or the number of iterations we want to train for, the number of hidden layers and the number of units in each hidden layer are also hyperparameters. In this notebook you will play with networks of different sizes and will see the impact that the network capacity has.\n",
    "\n",
    "Before we move on to the loss functions, we want to have a look at the activation functions. The choice of an activation function can have a huge impact on the performance of the network that you are designing. So far, you have implemented the `Sigmoid` and the `Relu` activation function in Exercise 5. \n",
    "\n",
    "<div class=\"alert alert-success\">\n",
    "    <h3>Task: Check Code</h3>\n",
    "    <p>Take a look at the <code>Sigmoid</code> and the <code>Relu</code> class in <code>exercise_code/networks/layer.py</code> and the implementation of the respective forward and backward pass. Make sure to understand why we use <b>element-wise product</b> instead of dot product in the backward pass of the <code>Sigmoid</code> class to compute the gradient $dx$. That will be helpful for your later implementation of other activation functions.</p>\n",
    "    <p> <b>Note:</b> The <code>cache</code> variable is used to store information from the forward pass and then pass this information in the backward pass to make use of it there. The implementation of both classes show that this variable can be used differently - depending on what information is needed in the backward pass. </p>\n",
    "</div>\n",
    "\n",
    "Now, we want to have a look at two other, very common activation functions that you have already met in the lecture: Leaky ReLU activation function and Tanh activation function. \n",
    "\n",
    "**Leaky Relus** are one attempt to fix the “dying ReLU” problem. Instead of the function being zero when $x<0$, a leaky ReLU has a small negative slope (for example, 0.01). That is, the function computes $f(x) = \\mathbb{1}(x < 0) (\\alpha x) + \\mathbb{1}(x>=0) (x)$ where $\\alpha$ is a small constant. Some people report success with this form of activation function, but the results are not always consistent.\n",
    "\n",
    "The **tanh non-linearity** squashes a real-valued number to the range [-1, 1]. Like the sigmoid neuron, its activations saturate, but unlike the sigmoid neuron its output is zero-centered. Therefore, in practice the tanh non-linearity is always preferred to the sigmoid non-linearity. Also note that the tanh neuron is simply a scaled sigmoid neuron, in particular the following holds: $\\tanh(x) = 2 \\cdot \\sigma(2x) -1$.\n",
    "\n",
    "<img class=left src=https://pytorch.org/docs/stable/_images/LeakyReLU.png alt=\"Figure3\" width=\"350\" align='left'/> \n",
    "<img class=right src=https://pytorch.org/docs/stable/_images/Tanh.png alt=\"Figure4\" width=\"350\"/>\n",
    "\n",
    "<div class=\"alert alert-info\">\n",
    "    <h3>Task: Implement Activation Layers</h3>\n",
    "    <p> Now, it is your turn to implement the <code>LeakyRelu</code> and the <code>Tanh</code> class in <code>exercise_code/networks/layer.py</code> by completing the <code>forward</code> and the <code>backward</code> functions. You can test your implementation in the following two cells. </p>\n",
    "    <p> <b>Note:</b> Always remember to return a cache in <code>forward</code> for later backpropagation in <code>backward</code>. As we have seen above, the <code>cache</code> variable can be used differently for two activation functions.</p>\n",
    "</div>\n",
    "\n",
    "Use this cell to test your implementation of the `LeakyRelu` class:"
   ]
  },
  {
   "cell_type": "code",
   "execution_count": 7,
   "metadata": {},
   "outputs": [
    {
     "name": "stdout",
     "output_type": "stream",
     "text": [
      "LeakyReluForwardTest passed.\n",
      "LeakyReluBackwardTest passed.\n",
      "Congratulations you have passed all the unit tests!!! Tests passed: 2/2\n",
      "Score: 100/100\n",
      "You secured a score of :100\n"
     ]
    }
   ],
   "source": [
    "from exercise_code.tests.layer_tests import *\n",
    "print(LeakyReluTestWrapper()())"
   ]
  },
  {
   "cell_type": "markdown",
   "metadata": {},
   "source": [
    "And this cell to test your implementation of the `Tanh` class:"
   ]
  },
  {
   "cell_type": "code",
   "execution_count": 8,
   "metadata": {},
   "outputs": [
    {
     "name": "stdout",
     "output_type": "stream",
     "text": [
      "TanhForwardTest passed.\n",
      "TanhBackwardTest passed.\n",
      "Congratulations you have passed all the unit tests!!! Tests passed: 2/2\n",
      "Score: 100/100\n",
      "You secured a score of :100\n"
     ]
    }
   ],
   "source": [
    "print(TanhTestWrapper()())"
   ]
  },
  {
   "cell_type": "markdown",
   "metadata": {},
   "source": [
    "Congratulations, you now implemented all four different activation functions! These activation layers are now ready to be used when you start building your own network."
   ]
  },
  {
   "cell_type": "markdown",
   "metadata": {},
   "source": [
    "## 1.4 Loss\n",
    "\n",
    "In order to measure how well a network is performing, we implemented several ```Loss``` classes (```L1```, ```MSE```, ```BCE```, each preferred for a certain type of problems) in ```exercise_code/networks/loss.py```.\n",
    "\n",
    "Each implemented a ```forward()``` method, which outputs a number that we use as a proxy for our network performance. \n",
    "\n",
    "Also, because our goal was to change the weights of the network such that this loss measure decreases, we were also interested in the gradients of the loss w.r.t the outputs of the network, $ \\nabla_{\\hat{y}} L({\\hat{y}}, {y}) $. This was implemented in ```backward()```. \n",
    "\n",
    "In previous exercises, we only worked with binary classification and used binary cross entropy (```BCE```) as a loss function.\n",
    "\n",
    "$$ BCE(\\hat{y}, y) = \\frac{1}{N} \\sum_{i=1}^N \\Big [-y_i \\log(\\hat{y_i}) - (1-y_i) \\log(1 - \\hat{y_i}) \\Big] $$ \n",
    "\n",
    "where\n",
    "- $ N $ was the number of samples we were considering\n",
    "- $\\hat{y}_i$ was the network's prediction for sample $i$. Note that this was a valid probability $\\in [0, 1]$, because we applied a [sigmoid](https://en.wikipedia.org/wiki/Sigmoid_function) activation on the last layer. \n",
    "- $ y_i $ was the ground truth label (0 or 1, depending on the class)\n",
    "\n",
    "Because we have 10 classes in the CIFAR10 dataset, we need a generalization of the binary cross entropy for multiple classes. This is simply called the cross entropy loss and has the following definition:\n",
    "\n",
    "$$ CE(\\hat{y}, y) = \\frac{1}{N} \\sum_{i=1}^N \\sum_{k=1}^{C} \\Big[ -y_{ik} \\log(\\hat{y}_{ik}) \\Big] $$\n",
    "\n",
    "where:\n",
    "- $ N $ is again the number of samples\n",
    "- $ C $ is the number of classes\n",
    "- $ \\hat{y}_{ik} $ is the probability that the model assigns for the $k$th class when the $i$th sample is the input. **Because we don't apply any activation function on the last layer of our network, its outputs for each sample will not be a valid probability distribution over the classes. We call these raw outputs of the network '[logits](https://datascience.stackexchange.com/questions/31041/what-does-logits-in-machine-learning-mean/31045)' and we will apply a [softmax](https://en.wikipedia.org/wiki/Softmax_function) activation in order to obtain a valid probability distribution.** \n",
    "- $y_{ik} = 1 $ iff the true label of the $i$th sample is $k$ and 0 otherwise. This is called a [one-hot encoding](https://machinelearningmastery.com/why-one-hot-encode-data-in-machine-learning/).\n",
    "\n",
    "You can check for yourself that when the number of classes $ C $ is 2, then the binary cross entropy is actually equivalent to the cross entropy.\n",
    "\n",
    "<div class=\"alert alert-success\">\n",
    "    <h3>Task: Check Code</h3>\n",
    "    <p>Please check the implementation of the <code>CrossEntropyFromLogits</code> class, which can be found in <code>../exercise_06/exercise_code/networks/loss.py</code>. </p>\n",
    "</div>"
   ]
  },
  {
   "cell_type": "code",
   "execution_count": 9,
   "metadata": {},
   "outputs": [],
   "source": [
    "loss = CrossEntropyFromLogits()"
   ]
  },
  {
   "cell_type": "markdown",
   "metadata": {},
   "source": [
    "Just as with the previous losses we have seen, we can simply get the results of the forward and backward passes as follows:"
   ]
  },
  {
   "cell_type": "markdown",
   "metadata": {},
   "source": [
    "```python\n",
    "# y_out is the output of the neural network\n",
    "# y_truth is the actual label from the dataset\n",
    "loss.forward(y_out, y_truth)\n",
    "loss.backward(y_out, y_truth)\n",
    "```"
   ]
  },
  {
   "cell_type": "markdown",
   "metadata": {},
   "source": [
    "## 1.5 Optimizer\n",
    "\n",
    "Now, knowing the gradient of the loss w.r.t the ouputs of the network, as well as the local gradient for each layer of the network, we can use the chain rule to compute all gradients. \n",
    "\n",
    "<div class=\"alert alert-success\">\n",
    "    <h3>Task: Check Code</h3>\n",
    "    <p>We implemented several optimizer classes <code>SGD</code>, <code>Adam</code>, <code>sgd_momentum</code> class that implement different first-order parameter update rules, which can be found in <code>../exercise_06/exercise_code/networks/optimizer.py</code>. </p>\n",
    "    <p>The <code>step()</code> method iterates through all the parameters of a model and updates them using the gradient information.</p>\n",
    "</div>\n",
    "\n",
    "What the optimizer is doing, in pseudocode, is the following:\n",
    "\n",
    "```python\n",
    "for param in model:\n",
    "    # Use the gradient to update the weights.\n",
    "    update(param)\n",
    "    \n",
    "    # Reset the gradient after each update.\n",
    "    param.gradient = 0\n",
    "```\n",
    "\n",
    "```SGD``` had the simplest update rule:\n",
    "```python\n",
    "def update(param):\n",
    "    param = param - learning_rate * param.gradient\n",
    "```\n",
    "\n",
    "For the more complicated update rules, see ```exercise_code/networks/optimizer.py```"
   ]
  },
  {
   "cell_type": "markdown",
   "metadata": {},
   "source": [
    "## 1.6 Solver\n",
    "\n",
    "The ```Solver``` is where all the above elements come together: Given a train and a validation dataloader, a model, a loss and an optimizer, it uses the training data to optimize a model in order to get better predictions. We simply call ```train()``` and it does its 'magic' for us!\n",
    "```python\n",
    "solver = Solver(model, \n",
    "                dataloaders['train'], \n",
    "                dataloaders['val'], \n",
    "                learning_rate=0.001, \n",
    "                loss_func=MSE(), \n",
    "                optimizer=SGD)\n",
    "\n",
    "solver.train(epochs=epochs)\n",
    "```\n",
    "\n",
    "<div class=\"alert alert-success\">\n",
    "    <h3>Task: Check Code</h3>\n",
    "    <p>Please check out the implementation of <code>train()</code> in <code>../exercise_06/exercise_code/solver.py</code>. </p>\n",
    "</div>"
   ]
  },
  {
   "cell_type": "markdown",
   "metadata": {},
   "source": [
    "## 1.7 Weight Regularization\n",
    "\n",
    "Before we finish this section of recap, we want to take a look at some regularization method that has been introduced in the lecture and that is super helpful to improve robustness of our model. Here, we talk about weight regularization.\n",
    "\n",
    "Weight regularization has been introduced to you as a method preventing our model from overfitting. Essentially, it is a term (solely depending on the weights of our model) that is added to the final loss and that encodes some preference for a certain set of weights $W$ over others. In the lecture, we compared two weight regularization methods and their respective preference for weight vectors. We made the following observation: \n",
    "\n",
    "1. L1 regularization: Enforces sparsity \n",
    "2. L2 regularization: Enforces that weights have similar values\n",
    "\n",
    "The most common weight regularization method is the L2 regularization. From the observations made in the lecture that makes totally sense - at least when we compare it to the L1 regularization. The L2 regularization penalty in the loss prefers smaller and more diffuse weight vectors and hence the model is encouraged to take into account all input dimensions to small amounts rather than a few input dimensions and very strongly.\n",
    "\n",
    "When using weight regularization, the loss function is a composition of two parts:\n",
    "$$L = \\underbrace{\\frac{1}{N} \\sum_{i} L_i}_{\\text{data loss}}  + \\underbrace{\\lambda R(W)}_{\\text{regularization loss}}$$\n",
    "The first one being the data loss, which is calculated with the Cross Entropy loss in our model. The second part is called the regularization loss $R(W)$ and is computed in the L2 case as follows:\n",
    "$$R(W) = \\sum_{k} \\sum_{l} w_{k,l}^2$$\n",
    "\n"
   ]
  },
  {
   "cell_type": "markdown",
   "metadata": {},
   "source": [
    "# 2. An overview of hyperparameters"
   ]
  },
  {
   "cell_type": "markdown",
   "metadata": {
    "collapsed": true
   },
   "source": [
    "\n",
    "<img src=https://images.deepai.org/glossary-terms/05c646fe1676490aa0b8cab0732a02b2/hyperparams.png alt=hyperparameter width=700>\n",
    "\n",
    "A **hyperparameter** is a parameter that is set before the learning process begins. Recall that the parameters of weight matrix and bias vector are learned during the learning process.\n",
    "\n",
    "The hyperparameters are essential, for they control and affect the whole training and have a great impact on the performance of the model. \n",
    "\n",
    "Some examples of hyperparameters we have covered in lectures:\n",
    "* Network architecture\n",
    "    * Choice of activation function\n",
    "    * Number of layers\n",
    "    * ...\n",
    "* Learning rate\n",
    "* Number of epochs\n",
    "* Batch size\n",
    "* Regularization strength\n",
    "* Momentum\n",
    "* ..."
   ]
  },
  {
   "cell_type": "markdown",
   "metadata": {},
   "source": [
    "## 2.1 Start debugging your own network!"
   ]
  },
  {
   "cell_type": "markdown",
   "metadata": {},
   "source": [
    "As already suggested in the lectures, you may always want to start from small and simple architectures, to make sure you are going the right way. \n",
    "\n",
    "First you may need to overfit a single training sample, then a few batches of training samples, then go deeper with larger neural networks and the whole training data.\n",
    "\n",
    "Here we always provide a default neural network (i.e. ClassificationNet) with arbitrary number of layers, which is a generalization from a fixed 2-layer neural network in exercise 5. You are welcome to implement your own network, in that case just implement **MyOwnNetwork** in ```exercise_code/networks/classification_net.py```. You can also copy things from ClassficationNet and make a little adjustment to your own network. For either way, just pick a network and comment out the other one, then run the cells below for debugging.\n",
    "\n",
    "<div class=\"alert alert-warning\">\n",
    "    <h3>Note:</h3>\n",
    "    <p>Please, make sure you don't modify the ClassificationNet itself so that you can always have a working network to fall back on</p>\n",
    "    <p>In order to pass this submissions, you can <b>first stick to the default ClassificationNet implementation without changing any code at all</b>. The goal of this submission is to find reasonable hyperparameters and the parameter options of the ClassificationNet are broad enough.</p>\n",
    "    <p>Once you have surpassed the submission goal, you can try to implement additional activation functions in the accompanying notebook, try different weight initializations or other adjustments by writing your own network architecture in the MyOwnNetwork class.</p>\n",
    "</div>"
   ]
  },
  {
   "cell_type": "markdown",
   "metadata": {},
   "source": [
    "First, let's begin with a 2-layer neural network, and overfit one single training sample.\n",
    "\n",
    "After training, let's evaluate the training process by plotting the loss curves."
   ]
  },
  {
   "cell_type": "code",
   "execution_count": 10,
   "metadata": {},
   "outputs": [
    {
     "name": "stdout",
     "output_type": "stream",
     "text": [
      "(Epoch 1 / 20) train loss: 2.327992; val loss: 2.333577\n",
      "(Epoch 2 / 20) train loss: 2.327992; val loss: 2.320803\n",
      "(Epoch 3 / 20) train loss: 2.201901; val loss: 2.329869\n",
      "(Epoch 4 / 20) train loss: 2.052337; val loss: 2.355061\n",
      "(Epoch 5 / 20) train loss: 1.881469; val loss: 2.387624\n",
      "(Epoch 6 / 20) train loss: 1.711020; val loss: 2.419109\n",
      "(Epoch 7 / 20) train loss: 1.556224; val loss: 2.443894\n",
      "(Epoch 8 / 20) train loss: 1.413779; val loss: 2.460766\n",
      "(Epoch 9 / 20) train loss: 1.277494; val loss: 2.472060\n",
      "(Epoch 10 / 20) train loss: 1.146821; val loss: 2.481483\n",
      "(Epoch 11 / 20) train loss: 1.022606; val loss: 2.492313\n",
      "(Epoch 12 / 20) train loss: 0.906329; val loss: 2.506576\n",
      "(Epoch 13 / 20) train loss: 0.800357; val loss: 2.524869\n",
      "(Epoch 14 / 20) train loss: 0.706310; val loss: 2.546673\n",
      "(Epoch 15 / 20) train loss: 0.624434; val loss: 2.571004\n",
      "(Epoch 16 / 20) train loss: 0.553740; val loss: 2.596932\n",
      "(Epoch 17 / 20) train loss: 0.492828; val loss: 2.623857\n",
      "(Epoch 18 / 20) train loss: 0.440498; val loss: 2.651549\n",
      "(Epoch 19 / 20) train loss: 0.395530; val loss: 2.680034\n",
      "(Epoch 20 / 20) train loss: 0.356914; val loss: 2.709408\n"
     ]
    }
   ],
   "source": [
    "from exercise_code.solver import Solver\n",
    "from exercise_code.networks.optimizer import SGD, Adam\n",
    "from exercise_code.networks import MyOwnNetwork\n",
    "\n",
    "num_layer = 2\n",
    "epochs = 20\n",
    "reg = 0.1\n",
    "batch_size = 4\n",
    "\n",
    "model = ClassificationNet(num_layer=num_layer, reg=reg)\n",
    "# model = MyOwnNetwork(num_layer=num_layer, reg=reg)\n",
    "\n",
    "loss = CrossEntropyFromLogits()\n",
    "\n",
    "# Make a new data loader with a single training image\n",
    "overfit_dataset = ImageFolderDataset(\n",
    "    mode='train',\n",
    "    root=cifar_root, \n",
    "    download_url=download_url,\n",
    "    transform=compose_transform,\n",
    "    limit_files=1\n",
    ")\n",
    "dataloaders['train_overfit_single_image'] = DataLoader(\n",
    "    dataset=overfit_dataset,\n",
    "    batch_size=batch_size,\n",
    "    shuffle=True,\n",
    "    drop_last=False,\n",
    ")\n",
    "\n",
    "# Decrease validation data for only debugging\n",
    "debugging_validation_dataset = ImageFolderDataset(\n",
    "    mode='val',\n",
    "    root=cifar_root, \n",
    "    download_url=download_url,\n",
    "    transform=compose_transform,\n",
    "    limit_files=100\n",
    ")\n",
    "dataloaders['val_500files'] = DataLoader(\n",
    "    dataset=debugging_validation_dataset,\n",
    "    batch_size=batch_size,\n",
    "    shuffle=True,\n",
    "    drop_last=True,\n",
    ")\n",
    "\n",
    "solver = Solver(model, dataloaders['train_overfit_single_image'], dataloaders['val_500files'], \n",
    "                learning_rate=1e-3, loss_func=loss, optimizer=Adam)\n",
    "\n",
    "solver.train(epochs=epochs)"
   ]
  },
  {
   "cell_type": "code",
   "execution_count": 11,
   "metadata": {},
   "outputs": [
    {
     "data": {
      "image/png": "[encoded data removed]",
      "text/plain": [
       "<Figure size 720x576 with 1 Axes>"
      ]
     },
     "metadata": {
      "needs_background": "light"
     },
     "output_type": "display_data"
    }
   ],
   "source": [
    "plt.title('Loss curves')\n",
    "plt.plot(solver.train_loss_history, '-', label='train')\n",
    "plt.plot(solver.val_loss_history, '-', label='val')\n",
    "plt.legend(loc='lower right')\n",
    "plt.xlabel('Iteration')\n",
    "plt.show()"
   ]
  },
  {
   "cell_type": "code",
   "execution_count": 12,
   "metadata": {},
   "outputs": [
    {
     "name": "stdout",
     "output_type": "stream",
     "text": [
      "Training accuray: 1.00000\n",
      "Validation accuray: 0.07000\n"
     ]
    }
   ],
   "source": [
    "print(\"Training accuray: %.5f\" % (solver.get_dataset_accuracy(dataloaders['train_overfit_single_image'])))\n",
    "print(\"Validation accuray: %.5f\" % (solver.get_dataset_accuracy(dataloaders['val_500files'])))"
   ]
  },
  {
   "cell_type": "markdown",
   "metadata": {},
   "source": [
    "This time let's try to overfit to a small set of training batch samples. Please observe the difference from above. "
   ]
  },
  {
   "cell_type": "code",
   "execution_count": 13,
   "metadata": {},
   "outputs": [
    {
     "name": "stdout",
     "output_type": "stream",
     "text": [
      "(Epoch 1 / 100) train loss: 2.331938; val loss: 2.334331\n",
      "(Epoch 2 / 100) train loss: 2.325609; val loss: 2.337541\n",
      "(Epoch 3 / 100) train loss: 2.207519; val loss: 2.391639\n",
      "(Epoch 4 / 100) train loss: 2.048381; val loss: 2.439445\n",
      "(Epoch 5 / 100) train loss: 2.048479; val loss: 2.522273\n",
      "(Epoch 6 / 100) train loss: 1.925998; val loss: 2.566617\n",
      "(Epoch 7 / 100) train loss: 1.857588; val loss: 2.628791\n",
      "(Epoch 8 / 100) train loss: 1.725757; val loss: 2.711391\n",
      "(Epoch 9 / 100) train loss: 1.752357; val loss: 2.795958\n",
      "(Epoch 10 / 100) train loss: 1.810925; val loss: 2.842225\n",
      "(Epoch 11 / 100) train loss: 1.718056; val loss: 2.855684\n",
      "(Epoch 12 / 100) train loss: 1.646908; val loss: 2.979115\n",
      "(Epoch 13 / 100) train loss: 1.625130; val loss: 3.089495\n",
      "(Epoch 14 / 100) train loss: 1.672408; val loss: 3.119818\n",
      "(Epoch 15 / 100) train loss: 1.598648; val loss: 3.084452\n",
      "(Epoch 16 / 100) train loss: 1.674407; val loss: 3.100027\n",
      "(Epoch 17 / 100) train loss: 1.714083; val loss: 3.168348\n",
      "(Epoch 18 / 100) train loss: 1.656148; val loss: 3.252408\n",
      "(Epoch 19 / 100) train loss: 1.739993; val loss: 3.245475\n",
      "(Epoch 20 / 100) train loss: 1.561257; val loss: 3.253790\n",
      "(Epoch 21 / 100) train loss: 1.540376; val loss: 3.314405\n",
      "(Epoch 22 / 100) train loss: 1.646614; val loss: 3.308773\n",
      "(Epoch 23 / 100) train loss: 1.581151; val loss: 3.302904\n",
      "(Epoch 24 / 100) train loss: 1.422976; val loss: 3.371343\n",
      "(Epoch 25 / 100) train loss: 1.562293; val loss: 3.425782\n",
      "(Epoch 26 / 100) train loss: 1.647568; val loss: 3.397219\n",
      "(Epoch 27 / 100) train loss: 1.467402; val loss: 3.377734\n",
      "(Epoch 28 / 100) train loss: 1.495070; val loss: 3.354369\n",
      "(Epoch 29 / 100) train loss: 1.588650; val loss: 3.382466\n",
      "(Epoch 30 / 100) train loss: 1.483492; val loss: 3.407889\n",
      "(Epoch 31 / 100) train loss: 1.515264; val loss: 3.393643\n",
      "(Epoch 32 / 100) train loss: 1.466285; val loss: 3.401993\n",
      "(Epoch 33 / 100) train loss: 1.423159; val loss: 3.425434\n",
      "(Epoch 34 / 100) train loss: 1.400972; val loss: 3.430258\n",
      "(Epoch 35 / 100) train loss: 1.348053; val loss: 3.429814\n",
      "(Epoch 36 / 100) train loss: 1.329759; val loss: 3.433689\n",
      "(Epoch 37 / 100) train loss: 1.288834; val loss: 3.455196\n",
      "(Epoch 38 / 100) train loss: 1.348734; val loss: 3.464836\n",
      "(Epoch 39 / 100) train loss: 1.260980; val loss: 3.498036\n",
      "(Epoch 40 / 100) train loss: 1.358767; val loss: 3.473409\n",
      "(Epoch 41 / 100) train loss: 1.390493; val loss: 3.433425\n",
      "(Epoch 42 / 100) train loss: 1.292045; val loss: 3.491149\n",
      "(Epoch 43 / 100) train loss: 1.268652; val loss: 3.539978\n",
      "(Epoch 44 / 100) train loss: 1.330824; val loss: 3.513853\n",
      "(Epoch 45 / 100) train loss: 1.287729; val loss: 3.509725\n",
      "(Epoch 46 / 100) train loss: 1.290267; val loss: 3.519821\n",
      "(Epoch 47 / 100) train loss: 1.172291; val loss: 3.522474\n",
      "(Epoch 48 / 100) train loss: 1.195694; val loss: 3.491398\n",
      "(Epoch 49 / 100) train loss: 1.170439; val loss: 3.480601\n",
      "(Epoch 50 / 100) train loss: 1.119711; val loss: 3.482389\n",
      "(Epoch 51 / 100) train loss: 1.257560; val loss: 3.513039\n",
      "(Epoch 52 / 100) train loss: 1.181583; val loss: 3.600747\n",
      "(Epoch 53 / 100) train loss: 1.283340; val loss: 3.644795\n",
      "(Epoch 54 / 100) train loss: 1.265615; val loss: 3.624526\n",
      "(Epoch 55 / 100) train loss: 1.159158; val loss: 3.576834\n",
      "(Epoch 56 / 100) train loss: 1.182414; val loss: 3.551872\n",
      "(Epoch 57 / 100) train loss: 1.105850; val loss: 3.560429\n",
      "(Epoch 58 / 100) train loss: 1.130616; val loss: 3.571432\n",
      "(Epoch 59 / 100) train loss: 1.134558; val loss: 3.574873\n",
      "(Epoch 60 / 100) train loss: 1.027422; val loss: 3.568672\n",
      "(Epoch 61 / 100) train loss: 1.027777; val loss: 3.541614\n",
      "(Epoch 62 / 100) train loss: 1.071632; val loss: 3.526807\n",
      "(Epoch 63 / 100) train loss: 1.000724; val loss: 3.545189\n",
      "(Epoch 64 / 100) train loss: 1.001871; val loss: 3.569452\n",
      "(Epoch 65 / 100) train loss: 1.005035; val loss: 3.568322\n",
      "(Epoch 66 / 100) train loss: 1.012345; val loss: 3.581639\n",
      "(Epoch 67 / 100) train loss: 1.031481; val loss: 3.623874\n",
      "(Epoch 68 / 100) train loss: 1.022743; val loss: 3.655385\n",
      "(Epoch 69 / 100) train loss: 1.002597; val loss: 3.638895\n",
      "(Epoch 70 / 100) train loss: 1.047481; val loss: 3.595655\n",
      "(Epoch 71 / 100) train loss: 1.074237; val loss: 3.591181\n",
      "(Epoch 72 / 100) train loss: 1.023344; val loss: 3.627247\n",
      "(Epoch 73 / 100) train loss: 0.985536; val loss: 3.649597\n",
      "(Epoch 74 / 100) train loss: 0.956673; val loss: 3.626058\n",
      "(Epoch 75 / 100) train loss: 0.953968; val loss: 3.563884\n",
      "(Epoch 76 / 100) train loss: 0.932819; val loss: 3.543700\n",
      "(Epoch 77 / 100) train loss: 0.907463; val loss: 3.561685\n",
      "(Epoch 78 / 100) train loss: 0.920114; val loss: 3.581150\n",
      "(Epoch 79 / 100) train loss: 0.902032; val loss: 3.603120\n",
      "(Epoch 80 / 100) train loss: 0.899427; val loss: 3.566424\n",
      "(Epoch 81 / 100) train loss: 0.928899; val loss: 3.577112\n",
      "(Epoch 82 / 100) train loss: 0.924480; val loss: 3.587221\n",
      "(Epoch 83 / 100) train loss: 0.964044; val loss: 3.580696\n",
      "(Epoch 84 / 100) train loss: 0.874808; val loss: 3.583204\n",
      "(Epoch 85 / 100) train loss: 0.938830; val loss: 3.587788\n",
      "(Epoch 86 / 100) train loss: 0.853180; val loss: 3.594803\n",
      "(Epoch 87 / 100) train loss: 0.909091; val loss: 3.579225\n",
      "(Epoch 88 / 100) train loss: 0.899377; val loss: 3.540678\n",
      "(Epoch 89 / 100) train loss: 0.877273; val loss: 3.561657\n",
      "(Epoch 90 / 100) train loss: 0.851209; val loss: 3.592029\n",
      "(Epoch 91 / 100) train loss: 0.860576; val loss: 3.592714\n",
      "(Epoch 92 / 100) train loss: 0.917568; val loss: 3.586197\n",
      "(Epoch 93 / 100) train loss: 0.916384; val loss: 3.648954\n",
      "(Epoch 94 / 100) train loss: 1.027391; val loss: 3.628603\n",
      "(Epoch 95 / 100) train loss: 0.898212; val loss: 3.659187\n",
      "(Epoch 96 / 100) train loss: 0.937496; val loss: 3.673554\n",
      "(Epoch 97 / 100) train loss: 0.982593; val loss: 3.657673\n",
      "(Epoch 98 / 100) train loss: 0.895751; val loss: 3.655952\n",
      "(Epoch 99 / 100) train loss: 0.840275; val loss: 3.596174\n",
      "(Epoch 100 / 100) train loss: 0.906998; val loss: 3.558889\n"
     ]
    }
   ],
   "source": [
    "from exercise_code.networks import MyOwnNetwork\n",
    "\n",
    "num_layer = 2\n",
    "epochs = 100\n",
    "reg = 0.1\n",
    "num_samples = 10\n",
    "\n",
    "model = ClassificationNet(num_layer=num_layer, reg=reg)\n",
    "# model = MyOwnNetwork(num_layer=num_layer, reg=reg)\n",
    "\n",
    "loss = CrossEntropyFromLogits()\n",
    "\n",
    "# Make a new data loader with a our num_samples training image\n",
    "overfit_dataset = ImageFolderDataset(\n",
    "    mode='train',\n",
    "    root=cifar_root, \n",
    "    download_url=download_url,\n",
    "    transform=compose_transform,\n",
    "    limit_files=num_samples\n",
    ")\n",
    "dataloaders['train_overfit_10samples'] = DataLoader(\n",
    "    dataset=overfit_dataset,\n",
    "    batch_size=batch_size,\n",
    "    shuffle=True,\n",
    "    drop_last=False,\n",
    ")\n",
    "\n",
    "solver = Solver(model, dataloaders['train_overfit_10samples'], dataloaders['val_500files'], \n",
    "                learning_rate=1e-3, loss_func=loss, optimizer=Adam)\n",
    "\n",
    "solver.train(epochs=epochs)"
   ]
  },
  {
   "cell_type": "code",
   "execution_count": 14,
   "metadata": {},
   "outputs": [
    {
     "data": {
      "image/png": "[encoded data removed]",
      "text/plain": [
       "<Figure size 720x576 with 1 Axes>"
      ]
     },
     "metadata": {
      "needs_background": "light"
     },
     "output_type": "display_data"
    }
   ],
   "source": [
    "plt.title('Loss curves')\n",
    "plt.plot(solver.train_loss_history, '-', label='train')\n",
    "plt.plot(solver.val_loss_history, '-', label='val')\n",
    "plt.legend(loc='lower right')\n",
    "plt.xlabel('Iteration')\n",
    "plt.show()"
   ]
  },
  {
   "cell_type": "code",
   "execution_count": 15,
   "metadata": {},
   "outputs": [
    {
     "name": "stdout",
     "output_type": "stream",
     "text": [
      "Training accuray: 1.00000\n",
      "Validation accuray: 0.06000\n"
     ]
    }
   ],
   "source": [
    "print(\"Training accuray: %.5f\" % (solver.get_dataset_accuracy(dataloaders['train_overfit_10samples'])))\n",
    "print(\"Validation accuray: %.5f\" % (solver.get_dataset_accuracy(dataloaders['val_500files'])))"
   ]
  },
  {
   "cell_type": "markdown",
   "metadata": {},
   "source": [
    "If you're overfitting the training data, that means the network's implementation is correct. However, as you have more samples to overfit, your accuracy will be way lower. You can increase the number of epochs above to achieve better results.\n",
    "\n",
    "Now let's try to feed all the training and validation data into the network, but this time we set the same hyperparameters for 2-layer and 5-layer networks, and compare the different behaviors.\n",
    "\n",
    "<div class=\"alert alert-warning\">\n",
    "    <h3>Note:</h3>\n",
    "    <p>This may take about 1 min for each epoch as the training set is quite large. For convenience, we only train on 1000 images for now but use the full validation set.</p>\n",
    "</div>"
   ]
  },
  {
   "cell_type": "code",
   "execution_count": 16,
   "metadata": {},
   "outputs": [
    {
     "name": "stdout",
     "output_type": "stream",
     "text": [
      "(Epoch 1 / 5) train loss: 2.305701; val loss: 2.305666\n",
      "(Epoch 2 / 5) train loss: 2.278313; val loss: 2.217917\n",
      "(Epoch 3 / 5) train loss: 2.229720; val loss: 2.238025\n",
      "(Epoch 4 / 5) train loss: 2.225433; val loss: 2.224318\n",
      "(Epoch 5 / 5) train loss: 2.221815; val loss: 2.220396\n"
     ]
    }
   ],
   "source": [
    "from exercise_code.networks import MyOwnNetwork\n",
    "\n",
    "num_layer = 2\n",
    "epochs = 5\n",
    "reg = 0.01\n",
    "\n",
    "# Make a new data loader with 1000 training samples\n",
    "num_samples = 1000\n",
    "overfit_dataset = ImageFolderDataset(\n",
    "    mode='train',\n",
    "    root=cifar_root, \n",
    "    download_url=download_url,\n",
    "    transform=compose_transform,\n",
    "    limit_files=num_samples\n",
    ")\n",
    "dataloaders['train_small'] = DataLoader(\n",
    "    dataset=overfit_dataset,\n",
    "    batch_size=batch_size,\n",
    "    shuffle=True,\n",
    "    drop_last=False,\n",
    ")\n",
    "\n",
    "\n",
    "# Change here if you want to use the full training set\n",
    "use_full_training_set = False\n",
    "if not use_full_training_set:\n",
    "    train_loader = dataloaders['train_small']\n",
    "else:\n",
    "    train_loader = dataloaders['train']\n",
    "    \n",
    "\n",
    "model = ClassificationNet(num_layer=num_layer, reg=reg)\n",
    "# model = MyOwnNetwork(num_layer=num_layer, reg=reg)\n",
    "\n",
    "loss = CrossEntropyFromLogits()\n",
    "\n",
    "solver = Solver(model, train_loader, dataloaders['val'], \n",
    "                learning_rate=1e-3, loss_func=loss, optimizer=Adam)\n",
    "\n",
    "solver.train(epochs=epochs)"
   ]
  },
  {
   "cell_type": "code",
   "execution_count": 17,
   "metadata": {},
   "outputs": [
    {
     "data": {
      "image/png": "[encoded data removed]",
      "text/plain": [
       "<Figure size 720x576 with 1 Axes>"
      ]
     },
     "metadata": {
      "needs_background": "light"
     },
     "output_type": "display_data"
    }
   ],
   "source": [
    "plt.title('Loss curves')\n",
    "plt.plot(solver.train_loss_history, '-', label='train')\n",
    "plt.plot(solver.val_loss_history, '-', label='val')\n",
    "plt.legend(loc='lower right')\n",
    "plt.xlabel('Iteration')\n",
    "plt.show()"
   ]
  },
  {
   "cell_type": "code",
   "execution_count": 18,
   "metadata": {},
   "outputs": [
    {
     "name": "stdout",
     "output_type": "stream",
     "text": [
      "Training accuray: 0.31800\n",
      "Validation accuray: 0.26002\n"
     ]
    }
   ],
   "source": [
    "print(\"Training accuray: %.5f\" % (solver.get_dataset_accuracy(train_loader)))\n",
    "print(\"Validation accuray: %.5f\" % (solver.get_dataset_accuracy(dataloaders['val'])))"
   ]
  },
  {
   "cell_type": "code",
   "execution_count": 19,
   "metadata": {},
   "outputs": [
    {
     "name": "stdout",
     "output_type": "stream",
     "text": [
      "(Epoch 1 / 5) train loss: 2.305912; val loss: 2.305979\n",
      "(Epoch 2 / 5) train loss: 2.327428; val loss: 2.308302\n",
      "(Epoch 3 / 5) train loss: 2.318951; val loss: 2.320646\n",
      "(Epoch 4 / 5) train loss: 2.313579; val loss: 2.323224\n",
      "(Epoch 5 / 5) train loss: 2.318441; val loss: 2.314183\n"
     ]
    }
   ],
   "source": [
    "from exercise_code.networks import MyOwnNetwork\n",
    "\n",
    "num_layer = 5\n",
    "epochs = 5\n",
    "reg = 0.01\n",
    "\n",
    "model = ClassificationNet(num_layer=num_layer, reg=reg)\n",
    "#model = MyOwnNetwork(num_layer=num_layer, reg=reg)\n",
    "\n",
    "# Change here if you want to use the full training set\n",
    "use_full_training_set = False\n",
    "if not use_full_training_set:\n",
    "    train_loader = dataloaders['train_small']\n",
    "else:\n",
    "    train_loader = dataloaders['train']\n",
    "\n",
    "loss = CrossEntropyFromLogits()\n",
    "\n",
    "solver = Solver(model, train_loader, dataloaders['val'], \n",
    "                learning_rate=1e-3, loss_func=loss, optimizer=Adam)\n",
    "\n",
    "solver.train(epochs=epochs)"
   ]
  },
  {
   "cell_type": "code",
   "execution_count": 20,
   "metadata": {},
   "outputs": [
    {
     "data": {
      "image/png": "[encoded data removed]",
      "text/plain": [
       "<Figure size 720x576 with 1 Axes>"
      ]
     },
     "metadata": {
      "needs_background": "light"
     },
     "output_type": "display_data"
    }
   ],
   "source": [
    "plt.title('Loss curves')\n",
    "plt.plot(solver.train_loss_history, '-', label='train')\n",
    "plt.plot(solver.val_loss_history, '-', label='val')\n",
    "plt.legend(loc='lower right')\n",
    "plt.xlabel('Iteration')\n",
    "plt.show()"
   ]
  },
  {
   "cell_type": "code",
   "execution_count": 21,
   "metadata": {},
   "outputs": [
    {
     "name": "stdout",
     "output_type": "stream",
     "text": [
      "Training accuray: 0.10500\n",
      "Validation accuray: 0.09826\n"
     ]
    }
   ],
   "source": [
    "print(\"Training accuray: %.5f\" % (solver.get_dataset_accuracy(train_loader)))\n",
    "print(\"Validation accuray: %.5f\" % (solver.get_dataset_accuracy(dataloaders['val'])))"
   ]
  },
  {
   "cell_type": "markdown",
   "metadata": {},
   "source": [
    "As you can see from above, the same hyperparameter set can decrease the loss for a 2-layer network, but for 5-layer network, it hardly works.\n",
    "\n",
    "The steps above are already mentioned in the lectures as debugging steps before training a neural network. \n",
    "\n",
    "If you implement your own network, make sure you do the steps above before tuning the hyperparameters as below. "
   ]
  },
  {
   "cell_type": "markdown",
   "metadata": {},
   "source": [
    "## 2.2 Difficulty in tuning hyperparameters\n",
    "As can be seen through the results of training a larger network, training with whole data doesn't fit the training data as well as training with small number of training data. Besides, the architecture of neural network makes a difference, too. Small decisions on hyperparameters count. \n",
    "\n",
    "Usually, but not always, hyperparameters cannot be learned using well known gradient based methods (such as gradient descent), which are commonly employed to learn parameters. Besides, some hyperparameters can affect the structure of the model and the loss function.\n",
    "\n",
    "As mentioned before, hyperparameters need to be set before training. Tuning hyperparameters is hard, because you always have to try different combinations of the hyperparameters, train the network, do the validation and pick the best one. Besides, it is not guaranteed that you'll find the best combination.\n",
    "\n",
    "Next you will do hands on learning with hyperparameter tuning methods that are covered in lectures."
   ]
  },
  {
   "cell_type": "markdown",
   "metadata": {},
   "source": [
    "# 3. Hyperparameter Tuning\n",
    "\n",
    "![alt text](https://blog.floydhub.com/content/images/2018/08/Screen-Shot-2018-08-22-at-17.59.25.png \"\")\n",
    "\n",
    "One of the main challenges in deep learning is finding the set of hyperparameters that performs best.\n",
    "\n",
    "So far, we have followed a manual approach by guessing hyperparameters, running the model, observing the result and maybe tweaking the hyperparameters based on this result. As you have probably noticed, this manual hyperparameter tuning is unstructured, inefficient and can become very tedious.\n",
    "\n",
    "\n",
    "A more systematic (and actually very simple) approach for hyperparameter tuning that you've already learned in the lecture  is implementing a **Grid Search**. \n",
    "\n",
    "\n",
    "\n",
    "## 3.1 Grid Search\n",
    "Grid search is a simple and naive, yet effective method to automate the hyperparameter tuning:\n",
    "\n",
    "* First, you define the set of parameters you want to tune, e.g. $\\{learning\\_rate, regularization\\_strength\\}$.\n",
    "\n",
    "* For each hyperparameter, you then define a set of possible values, e.g. $learning\\_rate = \\{0.0001, 0.001, 0.01, 0.1\\}$.\n",
    "\n",
    "* Then, you train a model for every possible combination of these hyperparameter values and afterwards select the combination that works best (e.g. in terms of accuracy on your validation set).\n",
    "\n",
    "<div class=\"alert alert-success\">\n",
    "    <h3>Task: Check Code</h3>\n",
    "    <p>Check out our <code>grid_search</code> implementation in <code>../exercise_6/exercise_code/hyperparameter_tuning.py</code>. We show a simple for loop implementation and a more sophisticated one for multiple inputs. </p>\n",
    "</div>\n",
    " \n",
    " <div class=\"alert alert-warning\">\n",
    "    <h3>Note:</h3>\n",
    "    <p>To keep things simple for the beginning, it'll be enough to just focus on the hyperparameters <code>learning_rate</code> and <code>regularization_strength</code> here, as in the example above.</p>\n",
    "</div>"
   ]
  },
  {
   "cell_type": "code",
   "execution_count": 22,
   "metadata": {},
   "outputs": [
    {
     "name": "stdout",
     "output_type": "stream",
     "text": [
      "\n",
      "Evaluating Config #1 [of 3]:\n",
      " {'learning_rate': 0.01, 'reg': 0.0001}\n",
      "(Epoch 1 / 10) train loss: 2.302778; val loss: 2.302379\n",
      "(Epoch 2 / 10) train loss: 2.552255; val loss: 2.538771\n",
      "(Epoch 3 / 10) train loss: 2.745131; val loss: 2.816231\n"
     ]
    },
    {
     "name": "stderr",
     "output_type": "stream",
     "text": [
      "/Users/penny/Desktop/研一/DL/exercise_06_cleaned 2/exercise_code/networks/layer.py:66: RuntimeWarning: overflow encountered in exp\n",
      "  outputs = 1 / (1 + np.exp(-x))\n"
     ]
    },
    {
     "name": "stdout",
     "output_type": "stream",
     "text": [
      "(Epoch 4 / 10) train loss: 2.920796; val loss: 3.092683\n",
      "(Epoch 5 / 10) train loss: 3.041066; val loss: 3.151139\n",
      "(Epoch 6 / 10) train loss: 3.174544; val loss: 3.260573\n",
      "Stopping early at epoch 5!\n",
      "\n",
      "Evaluating Config #2 [of 3]:\n",
      " {'learning_rate': 0.001, 'reg': 0.0001}\n",
      "(Epoch 1 / 10) train loss: 2.302776; val loss: 2.302850\n",
      "(Epoch 2 / 10) train loss: 2.188627; val loss: 2.018576\n",
      "(Epoch 3 / 10) train loss: 1.999532; val loss: 1.933551\n",
      "(Epoch 4 / 10) train loss: 1.898786; val loss: 1.913170\n",
      "(Epoch 5 / 10) train loss: 1.842902; val loss: 1.897408\n",
      "(Epoch 6 / 10) train loss: 1.767757; val loss: 1.882606\n",
      "(Epoch 7 / 10) train loss: 1.710118; val loss: 1.961722\n",
      "(Epoch 8 / 10) train loss: 1.636581; val loss: 1.945361\n",
      "(Epoch 9 / 10) train loss: 1.585429; val loss: 1.916295\n",
      "(Epoch 10 / 10) train loss: 1.516268; val loss: 1.924506\n",
      "\n",
      "Evaluating Config #3 [of 3]:\n",
      " {'learning_rate': 0.0001, 'reg': 0.0001}\n",
      "(Epoch 1 / 10) train loss: 2.302742; val loss: 2.302700\n",
      "(Epoch 2 / 10) train loss: 2.286272; val loss: 2.243366\n",
      "(Epoch 3 / 10) train loss: 2.212058; val loss: 2.153702\n",
      "(Epoch 4 / 10) train loss: 2.136847; val loss: 2.086200\n",
      "(Epoch 5 / 10) train loss: 2.075843; val loss: 2.034195\n",
      "(Epoch 6 / 10) train loss: 2.025140; val loss: 1.996724\n",
      "(Epoch 7 / 10) train loss: 1.980983; val loss: 1.980872\n",
      "(Epoch 8 / 10) train loss: 1.941590; val loss: 1.947735\n",
      "(Epoch 9 / 10) train loss: 1.904624; val loss: 1.928624\n",
      "(Epoch 10 / 10) train loss: 1.870713; val loss: 1.909161\n",
      "\n",
      "Search done. Best Val Loss = 1.8826062344214936\n",
      "Best Config: {'learning_rate': 0.001, 'reg': 0.0001}\n"
     ]
    }
   ],
   "source": [
    "from exercise_code.networks import MyOwnNetwork\n",
    "\n",
    "# Specify the used network\n",
    "model_class = ClassificationNet\n",
    "\n",
    "from exercise_code import hyperparameter_tuning\n",
    "best_model, results = hyperparameter_tuning.grid_search(\n",
    "    dataloaders['train_small'], dataloaders['val_500files'],\n",
    "    grid_search_spaces = {\n",
    "        \"learning_rate\": [1e-2, 1e-3, 1e-4], \n",
    "        \"reg\": [1e-4]\n",
    "    },\n",
    "    model_class=model_class,\n",
    "    epochs=10, patience=5)"
   ]
  },
  {
   "cell_type": "markdown",
   "metadata": {},
   "source": [
    "From the results of your grid search, you might already have found some hyperparameter combinations that work better than others. A common practice is to now repeat the grid search on a more narrow domain centered around the parameters that worked best. \n",
    "\n",
    "**Conclusion Grid Search**\n",
    "\n",
    "With grid search we now have automated the hyperparameter tuning to a certain degree. Another advantage is, that since the training of all models are independent of each other, you can parallelize the grid search, i.e.,  try out different hyperparameter configurations in parallel on different machines.\n",
    "\n",
    "However, as you have probably noticed, there is one big problem with this approach: the number of possible combinations to try out grows exponentially with the number of hyperparameters (\"curse of dimensionality\"). As we add more hyperparameters to the grid search, the search space will explode in time complexity, making this strategy unfeasible."
   ]
  },
  {
   "cell_type": "markdown",
   "metadata": {},
   "source": [
    "Especially when your search space contains more than 3 or 4 dimensions, it is often better to use another, similar hyperparameter tuning method that you've already learned about: random search."
   ]
  },
  {
   "cell_type": "markdown",
   "metadata": {},
   "source": [
    "## 3.2 Random Search\n",
    "Random search is very similar to grid search, with the only difference, that instead of providing specific values for every hyperparameter, you only define a range for each hyperparameter - then, the values are sampled randomly from the provided ranges.\n",
    "\n",
    "![alt text](https://i.stack.imgur.com/cIDuR.png \"\")\n",
    "\n",
    "The figure above illustrates the difference in the hyperparameter space exploration between grid search and random search: assume you have 2 hyperparameters with each 3 values. Running a grid search results in training $3^2=9$ different models - but in the end, you've just tired out 3 values for each parameter. For random search on the other hand, after training 9 models you'll have tried out 9 different values for each hyperparameter, which often leads much faster to good results.\n",
    "\n",
    "To get a deeper understanding of random search and why it is more efficient than grid search, you should definitely check out this paper: http://www.jmlr.org/papers/volume13/bergstra12a/bergstra12a.pdf\n",
    "\n",
    "<div class=\"alert alert-success\">\n",
    "    <h3>Task: Check Code</h3>\n",
    "    <p>Check out our <code>random_search</code> implementation in <code>../exercise_6/exercise_code/hyperparameter_tuning.py</code></p>\n",
    "</div>\n",
    "\n",
    "\n",
    "*Hint: regarding the sample space of each parameter, think about the scale for which it makes most sense to sample in. For example the learning rate is usually sampled on a logarithmic scale!*\n",
    "\n",
    "*For simplicity and speed, just use the `train_batches`-dataloader!*"
   ]
  },
  {
   "cell_type": "code",
   "execution_count": 23,
   "metadata": {},
   "outputs": [
    {
     "name": "stdout",
     "output_type": "stream",
     "text": [
      "\n",
      "Evaluating Config #1 [of 1]:\n",
      " {'learning_rate': 1.593972872106797e-06, 'reg': 4.601679216679772e-06, 'loss_func': <exercise_code.networks.loss.CrossEntropyFromLogits object at 0x7f827fb57400>}\n",
      "(Epoch 1 / 20) train loss: 2.302916; val loss: 2.302398\n",
      "(Epoch 2 / 20) train loss: 2.302806; val loss: 2.302101\n",
      "(Epoch 3 / 20) train loss: 2.302441; val loss: 2.301838\n",
      "(Epoch 4 / 20) train loss: 2.302076; val loss: 2.301528\n",
      "(Epoch 5 / 20) train loss: 2.301715; val loss: 2.301230\n",
      "(Epoch 6 / 20) train loss: 2.301340; val loss: 2.300901\n",
      "(Epoch 7 / 20) train loss: 2.300942; val loss: 2.300545\n",
      "(Epoch 8 / 20) train loss: 2.300530; val loss: 2.300198\n",
      "(Epoch 9 / 20) train loss: 2.300088; val loss: 2.299825\n",
      "(Epoch 10 / 20) train loss: 2.299618; val loss: 2.299332\n",
      "(Epoch 11 / 20) train loss: 2.299115; val loss: 2.298896\n",
      "(Epoch 12 / 20) train loss: 2.298600; val loss: 2.298369\n",
      "(Epoch 13 / 20) train loss: 2.298027; val loss: 2.297869\n",
      "(Epoch 14 / 20) train loss: 2.297434; val loss: 2.297242\n",
      "(Epoch 15 / 20) train loss: 2.296796; val loss: 2.296651\n",
      "(Epoch 16 / 20) train loss: 2.296116; val loss: 2.295933\n",
      "(Epoch 17 / 20) train loss: 2.295400; val loss: 2.295246\n",
      "(Epoch 18 / 20) train loss: 2.294657; val loss: 2.294469\n",
      "(Epoch 19 / 20) train loss: 2.293868; val loss: 2.293648\n",
      "(Epoch 20 / 20) train loss: 2.293042; val loss: 2.292787\n",
      "\n",
      "Search done. Best Val Loss = 2.29278713743304\n",
      "Best Config: {'learning_rate': 1.593972872106797e-06, 'reg': 4.601679216679772e-06, 'loss_func': <exercise_code.networks.loss.CrossEntropyFromLogits object at 0x7f827fb57400>}\n"
     ]
    }
   ],
   "source": [
    "from exercise_code.hyperparameter_tuning import random_search\n",
    "from exercise_code.networks import MyOwnNetwork\n",
    "\n",
    "# Specify the used network\n",
    "model_class = ClassificationNet\n",
    "\n",
    "best_model, results = random_search(\n",
    "    dataloaders['train_small'], dataloaders['val_500files'],\n",
    "    random_search_spaces = {\n",
    "        \"learning_rate\": ([1e-2, 1e-6], 'log'),\n",
    "        \"reg\": ([1e-3, 1e-7], \"log\"),\n",
    "        \"loss_func\": ([CrossEntropyFromLogits()], \"item\")\n",
    "    },\n",
    "    model_class=model_class,\n",
    "    num_search = 1, epochs=20, patience=5)"
   ]
  },
  {
   "cell_type": "markdown",
   "metadata": {},
   "source": [
    "It's time to run it with the whole dataset, and let it search for a few hours for a nice configuration. \n",
    "\n",
    "However, to save some time, let's first implement an **early-stopping** mechanism, that you also already know from the lecture."
   ]
  },
  {
   "cell_type": "markdown",
   "metadata": {},
   "source": [
    "## 3.3 Early Stopping"
   ]
  },
  {
   "cell_type": "markdown",
   "metadata": {},
   "source": [
    "By now you've already seen a lot of training curves:\n",
    "\n",
    "<img src=http://fouryears.eu/wp-content/uploads/2017/12/early_stopping.png></img>\n",
    "\n",
    "Usually, at some point the validation loss goes up again, which is a sign that we're overfitting to our training data. Since it actually doesn't make any sense to train further at this point, it's common practice to apply \"early stopping\", i.e., cancel the training process when the validation loss doesn't improve anymore. The nice thing about this concept is, that not only it improves generalization through the prevention of overfitting, but also it saves us a lot of time - one of our most valuable resources in deep learning.\n",
    "\n",
    "Since there are natural fluctuations in the validation loss, you usually don't cancel the training process right at the first epoch when the validation-loss increases, but instead, you wait for some epochs (specified by the `patience`-parameter) and if the loss still doesn't improve, we stop.\n",
    "\n",
    "<div class=\"alert alert-success\">\n",
    "    <h3>Task: Check Code</h3>\n",
    "    <p>Please check the implementation of the early stopping mechanism in <code>../exercise_6/exercise_code/solver.py</code>.\n",
    " </p>\n",
    "</div>"
   ]
  },
  {
   "cell_type": "markdown",
   "metadata": {},
   "source": [
    "## 3.4 Let's find the perfect model!"
   ]
  },
  {
   "cell_type": "markdown",
   "metadata": {},
   "source": [
    "You've now set everything up to start training your model and finding a nice set of hyper parameters using a combination of grid or random search!\n",
    "\n",
    "Since we'll now be training with a much larger number of samples, you should be aware that this process will definitely take some time! So be prepared to let your machine run for a while. \n",
    "\n",
    "At the beginning, it's a good approach to first do a coarse random search across a wide range of values to find promising sub-ranges of your parameter space. Afterwards, you can zoom in to these ranges and do another random search (or grid search) to finetune the configuration.\n",
    "\n",
    "You don't have to use the whole dataset at the beginning, instead you can also use a medium large subset of the samples. Also, you don't need to train for a large number of epochs - as mentioned above: we first want to get an overview about our hyper parameters.\n",
    "\n",
    "<div class=\"alert alert-info\">\n",
    "    <h3>Task: Hyperparameters Tunning & Model Training </h3>\n",
    "        <p> Now, it is your turn to do the hyperparamater tuning. In the cell below, you can use the <code>random_search</code> function to find a good choice of parameters. Put in some reasonable ranges for the hyperparameters and evaluate them.\n",
    "    <p> <b>Note:</b> At the beginning, it's a good approach to first do a coarse random search across a <b> wide range of values</b> to find promising sub-ranges of your parameter space and use <b> a medium large subset of the dataset </b>instead the whole as well. Afterwards, you can zoom in to these ranges and do another random search (or grid search) to finetune the configuration. Use the cell below to play around and find good hyperparameters for your model!</p>\n",
    "        <p> Finally, once you've found some promising hyperparameters (or narrowed them down to promising subranges), it's time to utilize these hyperparameters to train your network on the whole dataset for a large number of epochs so that your own model can reach an acceptable performance. \n",
    "        <p> <b>Hint:</b> You may use a <code>Solver</code> class we provided before or directly use the <code>random_search</code> function (as you can also monitor the loss here) for model training.\n",
    "</div>"
   ]
  },
  {
   "cell_type": "code",
   "execution_count": 95,
   "metadata": {},
   "outputs": [
    {
     "name": "stdout",
     "output_type": "stream",
     "text": [
      "\n",
      "Evaluating Config #1 [of 10]:\n",
      " {'learning_rate': 0.0001, 'reg': 5.650029495342432e-06, 'activation': <exercise_code.networks.layer.LeakyRelu object at 0x7f826a088df0>, 'hidden_size': 109, 'loss_func': <exercise_code.networks.loss.CrossEntropyFromLogits object at 0x7f826a088d30>, 'num_layer': 2, 'optimizer': <class 'exercise_code.networks.optimizer.Adam'>, 'lr_decay': 1}\n",
      "(Epoch 1 / 50) train loss: 2.302576; val loss: 2.302573\n",
      "(Epoch 2 / 50) train loss: 2.117597; val loss: 1.956890\n",
      "(Epoch 3 / 50) train loss: 1.870961; val loss: 1.824600\n",
      "(Epoch 4 / 50) train loss: 1.773233; val loss: 1.760271\n",
      "(Epoch 5 / 50) train loss: 1.713371; val loss: 1.716228\n",
      "(Epoch 6 / 50) train loss: 1.668029; val loss: 1.678362\n",
      "(Epoch 7 / 50) train loss: 1.629831; val loss: 1.647382\n",
      "(Epoch 8 / 50) train loss: 1.595439; val loss: 1.624348\n",
      "(Epoch 9 / 50) train loss: 1.565718; val loss: 1.601685\n",
      "(Epoch 10 / 50) train loss: 1.539799; val loss: 1.586241\n",
      "(Epoch 11 / 50) train loss: 1.516824; val loss: 1.570900\n",
      "(Epoch 12 / 50) train loss: 1.496868; val loss: 1.560968\n",
      "(Epoch 13 / 50) train loss: 1.477514; val loss: 1.549160\n",
      "(Epoch 14 / 50) train loss: 1.459690; val loss: 1.539701\n",
      "(Epoch 15 / 50) train loss: 1.443569; val loss: 1.532475\n",
      "(Epoch 16 / 50) train loss: 1.427912; val loss: 1.522839\n",
      "(Epoch 17 / 50) train loss: 1.413138; val loss: 1.514016\n",
      "(Epoch 18 / 50) train loss: 1.398459; val loss: 1.508214\n",
      "(Epoch 19 / 50) train loss: 1.384397; val loss: 1.502390\n",
      "(Epoch 20 / 50) train loss: 1.371523; val loss: 1.496384\n",
      "(Epoch 21 / 50) train loss: 1.359021; val loss: 1.492719\n",
      "(Epoch 22 / 50) train loss: 1.346346; val loss: 1.486909\n",
      "(Epoch 23 / 50) train loss: 1.334570; val loss: 1.481726\n",
      "(Epoch 24 / 50) train loss: 1.322065; val loss: 1.479421\n",
      "(Epoch 25 / 50) train loss: 1.311114; val loss: 1.473638\n",
      "(Epoch 26 / 50) train loss: 1.301259; val loss: 1.471890\n",
      "(Epoch 27 / 50) train loss: 1.290440; val loss: 1.467222\n",
      "(Epoch 28 / 50) train loss: 1.279499; val loss: 1.465974\n",
      "(Epoch 29 / 50) train loss: 1.269153; val loss: 1.462107\n",
      "(Epoch 30 / 50) train loss: 1.260195; val loss: 1.458944\n",
      "(Epoch 31 / 50) train loss: 1.249839; val loss: 1.459672\n",
      "(Epoch 32 / 50) train loss: 1.240098; val loss: 1.454007\n",
      "(Epoch 33 / 50) train loss: 1.231087; val loss: 1.455588\n",
      "(Epoch 34 / 50) train loss: 1.222242; val loss: 1.450923\n",
      "(Epoch 35 / 50) train loss: 1.212603; val loss: 1.451132\n",
      "(Epoch 36 / 50) train loss: 1.204435; val loss: 1.450037\n",
      "(Epoch 37 / 50) train loss: 1.195099; val loss: 1.445515\n",
      "(Epoch 38 / 50) train loss: 1.186523; val loss: 1.447177\n",
      "(Epoch 39 / 50) train loss: 1.177825; val loss: 1.448746\n",
      "(Epoch 40 / 50) train loss: 1.169570; val loss: 1.444816\n",
      "(Epoch 41 / 50) train loss: 1.162147; val loss: 1.442738\n",
      "(Epoch 42 / 50) train loss: 1.153622; val loss: 1.445305\n",
      "(Epoch 43 / 50) train loss: 1.145837; val loss: 1.443766\n",
      "(Epoch 44 / 50) train loss: 1.137370; val loss: 1.442824\n",
      "(Epoch 45 / 50) train loss: 1.129869; val loss: 1.441438\n",
      "(Epoch 46 / 50) train loss: 1.121860; val loss: 1.443591\n",
      "(Epoch 47 / 50) train loss: 1.114980; val loss: 1.443453\n",
      "(Epoch 48 / 50) train loss: 1.107883; val loss: 1.442987\n",
      "(Epoch 49 / 50) train loss: 1.100015; val loss: 1.447237\n",
      "(Epoch 50 / 50) train loss: 1.092469; val loss: 1.442462\n",
      "Stopping early at epoch 49!\n",
      "\n",
      "Evaluating Config #2 [of 10]:\n",
      " {'learning_rate': 0.0001, 'reg': 3.0044676223711557e-07, 'activation': <exercise_code.networks.layer.LeakyRelu object at 0x7f826a088df0>, 'hidden_size': 109, 'loss_func': <exercise_code.networks.loss.CrossEntropyFromLogits object at 0x7f826a088d30>, 'num_layer': 2, 'optimizer': <class 'exercise_code.networks.optimizer.Adam'>, 'lr_decay': 1}\n",
      "(Epoch 1 / 50) train loss: 2.302591; val loss: 2.302589\n",
      "(Epoch 2 / 50) train loss: 2.121443; val loss: 1.960074\n",
      "(Epoch 3 / 50) train loss: 1.874444; val loss: 1.830620\n",
      "(Epoch 4 / 50) train loss: 1.776473; val loss: 1.763278\n",
      "(Epoch 5 / 50) train loss: 1.715654; val loss: 1.714536\n",
      "(Epoch 6 / 50) train loss: 1.667522; val loss: 1.675496\n",
      "(Epoch 7 / 50) train loss: 1.627807; val loss: 1.646968\n",
      "(Epoch 8 / 50) train loss: 1.592400; val loss: 1.621254\n",
      "(Epoch 9 / 50) train loss: 1.562924; val loss: 1.601219\n",
      "(Epoch 10 / 50) train loss: 1.536504; val loss: 1.582390\n",
      "(Epoch 11 / 50) train loss: 1.513817; val loss: 1.571324\n",
      "(Epoch 12 / 50) train loss: 1.493138; val loss: 1.557635\n",
      "(Epoch 13 / 50) train loss: 1.474837; val loss: 1.549574\n",
      "(Epoch 14 / 50) train loss: 1.457378; val loss: 1.538838\n",
      "(Epoch 15 / 50) train loss: 1.441354; val loss: 1.527801\n",
      "(Epoch 16 / 50) train loss: 1.425442; val loss: 1.519959\n",
      "(Epoch 17 / 50) train loss: 1.411157; val loss: 1.515332\n",
      "(Epoch 18 / 50) train loss: 1.397951; val loss: 1.509508\n",
      "(Epoch 19 / 50) train loss: 1.384200; val loss: 1.501229\n",
      "(Epoch 20 / 50) train loss: 1.371427; val loss: 1.496803\n",
      "(Epoch 21 / 50) train loss: 1.359013; val loss: 1.496470\n",
      "(Epoch 22 / 50) train loss: 1.347104; val loss: 1.487937\n",
      "(Epoch 23 / 50) train loss: 1.335616; val loss: 1.485510\n",
      "(Epoch 24 / 50) train loss: 1.323996; val loss: 1.480069\n",
      "(Epoch 25 / 50) train loss: 1.313469; val loss: 1.474634\n",
      "(Epoch 26 / 50) train loss: 1.302532; val loss: 1.470480\n",
      "(Epoch 27 / 50) train loss: 1.291969; val loss: 1.468763\n",
      "(Epoch 28 / 50) train loss: 1.280813; val loss: 1.466019\n",
      "(Epoch 29 / 50) train loss: 1.271103; val loss: 1.466515\n",
      "(Epoch 30 / 50) train loss: 1.261658; val loss: 1.460041\n",
      "(Epoch 31 / 50) train loss: 1.251287; val loss: 1.458417\n",
      "(Epoch 32 / 50) train loss: 1.241296; val loss: 1.456873\n",
      "(Epoch 33 / 50) train loss: 1.232476; val loss: 1.453632\n",
      "(Epoch 34 / 50) train loss: 1.224825; val loss: 1.450944\n",
      "(Epoch 35 / 50) train loss: 1.214220; val loss: 1.451163\n",
      "(Epoch 36 / 50) train loss: 1.206774; val loss: 1.449152\n",
      "(Epoch 37 / 50) train loss: 1.197197; val loss: 1.449374\n",
      "(Epoch 38 / 50) train loss: 1.188644; val loss: 1.445433\n",
      "(Epoch 39 / 50) train loss: 1.180383; val loss: 1.446281\n",
      "(Epoch 40 / 50) train loss: 1.171820; val loss: 1.443915\n",
      "(Epoch 41 / 50) train loss: 1.163906; val loss: 1.447365\n",
      "(Epoch 42 / 50) train loss: 1.155439; val loss: 1.443252\n",
      "(Epoch 43 / 50) train loss: 1.148193; val loss: 1.442629\n",
      "(Epoch 44 / 50) train loss: 1.140237; val loss: 1.444976\n",
      "(Epoch 45 / 50) train loss: 1.131923; val loss: 1.444827\n",
      "(Epoch 46 / 50) train loss: 1.124427; val loss: 1.446552\n",
      "(Epoch 47 / 50) train loss: 1.117866; val loss: 1.445205\n",
      "(Epoch 48 / 50) train loss: 1.110575; val loss: 1.445691\n",
      "Stopping early at epoch 47!\n",
      "\n",
      "Evaluating Config #3 [of 10]:\n",
      " {'learning_rate': 0.0001, 'reg': 4.3335724460200433e-07, 'activation': <exercise_code.networks.layer.LeakyRelu object at 0x7f826a088df0>, 'hidden_size': 109, 'loss_func': <exercise_code.networks.loss.CrossEntropyFromLogits object at 0x7f826a088d30>, 'num_layer': 2, 'optimizer': <class 'exercise_code.networks.optimizer.Adam'>, 'lr_decay': 1}\n",
      "(Epoch 1 / 50) train loss: 2.302601; val loss: 2.302594\n",
      "(Epoch 2 / 50) train loss: 2.125100; val loss: 1.966471\n",
      "(Epoch 3 / 50) train loss: 1.880514; val loss: 1.835244\n",
      "(Epoch 4 / 50) train loss: 1.778600; val loss: 1.762588\n",
      "(Epoch 5 / 50) train loss: 1.713383; val loss: 1.711670\n",
      "(Epoch 6 / 50) train loss: 1.664245; val loss: 1.670812\n",
      "(Epoch 7 / 50) train loss: 1.623864; val loss: 1.641261\n",
      "(Epoch 8 / 50) train loss: 1.589779; val loss: 1.617596\n",
      "(Epoch 9 / 50) train loss: 1.559420; val loss: 1.597377\n",
      "(Epoch 10 / 50) train loss: 1.534551; val loss: 1.581541\n",
      "(Epoch 11 / 50) train loss: 1.512750; val loss: 1.567116\n",
      "(Epoch 12 / 50) train loss: 1.492172; val loss: 1.556900\n",
      "(Epoch 13 / 50) train loss: 1.473655; val loss: 1.546107\n",
      "(Epoch 14 / 50) train loss: 1.456618; val loss: 1.536862\n",
      "(Epoch 15 / 50) train loss: 1.441119; val loss: 1.530510\n",
      "(Epoch 16 / 50) train loss: 1.424879; val loss: 1.522424\n",
      "(Epoch 17 / 50) train loss: 1.410943; val loss: 1.517430\n",
      "(Epoch 18 / 50) train loss: 1.397170; val loss: 1.508939\n",
      "(Epoch 19 / 50) train loss: 1.383873; val loss: 1.502383\n",
      "(Epoch 20 / 50) train loss: 1.369276; val loss: 1.498175\n",
      "(Epoch 21 / 50) train loss: 1.357955; val loss: 1.492822\n",
      "(Epoch 22 / 50) train loss: 1.344942; val loss: 1.489364\n",
      "(Epoch 23 / 50) train loss: 1.334074; val loss: 1.487770\n",
      "(Epoch 24 / 50) train loss: 1.323559; val loss: 1.480903\n",
      "(Epoch 25 / 50) train loss: 1.311113; val loss: 1.477559\n",
      "(Epoch 26 / 50) train loss: 1.299501; val loss: 1.473839\n"
     ]
    },
    {
     "name": "stdout",
     "output_type": "stream",
     "text": [
      "(Epoch 27 / 50) train loss: 1.289679; val loss: 1.471480\n",
      "(Epoch 28 / 50) train loss: 1.278592; val loss: 1.468341\n",
      "(Epoch 29 / 50) train loss: 1.267495; val loss: 1.464081\n",
      "(Epoch 30 / 50) train loss: 1.258982; val loss: 1.464269\n",
      "(Epoch 31 / 50) train loss: 1.247825; val loss: 1.459960\n",
      "(Epoch 32 / 50) train loss: 1.237975; val loss: 1.455912\n",
      "(Epoch 33 / 50) train loss: 1.228931; val loss: 1.456008\n",
      "(Epoch 34 / 50) train loss: 1.219794; val loss: 1.454288\n",
      "(Epoch 35 / 50) train loss: 1.210163; val loss: 1.452712\n",
      "(Epoch 36 / 50) train loss: 1.202281; val loss: 1.452341\n",
      "(Epoch 37 / 50) train loss: 1.192329; val loss: 1.451438\n",
      "(Epoch 38 / 50) train loss: 1.183360; val loss: 1.450526\n",
      "(Epoch 39 / 50) train loss: 1.174152; val loss: 1.450530\n",
      "(Epoch 40 / 50) train loss: 1.166370; val loss: 1.450984\n",
      "(Epoch 41 / 50) train loss: 1.159799; val loss: 1.449095\n",
      "(Epoch 42 / 50) train loss: 1.149925; val loss: 1.448018\n",
      "(Epoch 43 / 50) train loss: 1.142558; val loss: 1.450180\n",
      "(Epoch 44 / 50) train loss: 1.134717; val loss: 1.445805\n",
      "(Epoch 45 / 50) train loss: 1.125854; val loss: 1.447326\n",
      "(Epoch 46 / 50) train loss: 1.119556; val loss: 1.448415\n",
      "(Epoch 47 / 50) train loss: 1.110598; val loss: 1.448664\n",
      "(Epoch 48 / 50) train loss: 1.103305; val loss: 1.448539\n",
      "(Epoch 49 / 50) train loss: 1.096166; val loss: 1.449647\n",
      "Stopping early at epoch 48!\n",
      "\n",
      "Evaluating Config #4 [of 10]:\n",
      " {'learning_rate': 0.0001, 'reg': 2.8050868987887827e-06, 'activation': <exercise_code.networks.layer.LeakyRelu object at 0x7f826a088df0>, 'hidden_size': 109, 'loss_func': <exercise_code.networks.loss.CrossEntropyFromLogits object at 0x7f826a088d30>, 'num_layer': 2, 'optimizer': <class 'exercise_code.networks.optimizer.Adam'>, 'lr_decay': 1}\n",
      "(Epoch 1 / 50) train loss: 2.302579; val loss: 2.302579\n",
      "(Epoch 2 / 50) train loss: 2.121299; val loss: 1.960189\n",
      "(Epoch 3 / 50) train loss: 1.874934; val loss: 1.830328\n",
      "(Epoch 4 / 50) train loss: 1.776282; val loss: 1.762225\n",
      "(Epoch 5 / 50) train loss: 1.715793; val loss: 1.715798\n",
      "(Epoch 6 / 50) train loss: 1.667105; val loss: 1.678589\n",
      "(Epoch 7 / 50) train loss: 1.628875; val loss: 1.650079\n",
      "(Epoch 8 / 50) train loss: 1.595590; val loss: 1.626500\n",
      "(Epoch 9 / 50) train loss: 1.567249; val loss: 1.605150\n",
      "(Epoch 10 / 50) train loss: 1.542053; val loss: 1.587336\n",
      "(Epoch 11 / 50) train loss: 1.519017; val loss: 1.575838\n",
      "(Epoch 12 / 50) train loss: 1.497763; val loss: 1.560688\n",
      "(Epoch 13 / 50) train loss: 1.478678; val loss: 1.553290\n",
      "(Epoch 14 / 50) train loss: 1.461622; val loss: 1.539546\n",
      "(Epoch 15 / 50) train loss: 1.444353; val loss: 1.533705\n",
      "(Epoch 16 / 50) train loss: 1.429392; val loss: 1.525746\n",
      "(Epoch 17 / 50) train loss: 1.413839; val loss: 1.517435\n",
      "(Epoch 18 / 50) train loss: 1.400097; val loss: 1.510562\n",
      "(Epoch 19 / 50) train loss: 1.386801; val loss: 1.505318\n",
      "(Epoch 20 / 50) train loss: 1.372288; val loss: 1.500113\n",
      "(Epoch 21 / 50) train loss: 1.360058; val loss: 1.492344\n",
      "(Epoch 22 / 50) train loss: 1.347649; val loss: 1.489342\n",
      "(Epoch 23 / 50) train loss: 1.336108; val loss: 1.483912\n",
      "(Epoch 24 / 50) train loss: 1.323846; val loss: 1.480111\n",
      "(Epoch 25 / 50) train loss: 1.312888; val loss: 1.474618\n",
      "(Epoch 26 / 50) train loss: 1.300915; val loss: 1.471607\n",
      "(Epoch 27 / 50) train loss: 1.292173; val loss: 1.469763\n",
      "(Epoch 28 / 50) train loss: 1.280242; val loss: 1.469272\n",
      "(Epoch 29 / 50) train loss: 1.270606; val loss: 1.464908\n",
      "(Epoch 30 / 50) train loss: 1.261027; val loss: 1.461070\n",
      "(Epoch 31 / 50) train loss: 1.250514; val loss: 1.460711\n",
      "(Epoch 32 / 50) train loss: 1.241023; val loss: 1.458708\n",
      "(Epoch 33 / 50) train loss: 1.232081; val loss: 1.454756\n",
      "(Epoch 34 / 50) train loss: 1.223270; val loss: 1.454155\n",
      "(Epoch 35 / 50) train loss: 1.213579; val loss: 1.453225\n",
      "(Epoch 36 / 50) train loss: 1.206466; val loss: 1.451014\n",
      "(Epoch 37 / 50) train loss: 1.196448; val loss: 1.448938\n",
      "(Epoch 38 / 50) train loss: 1.187023; val loss: 1.448312\n",
      "(Epoch 39 / 50) train loss: 1.178265; val loss: 1.446495\n",
      "(Epoch 40 / 50) train loss: 1.170956; val loss: 1.449587\n",
      "(Epoch 41 / 50) train loss: 1.162109; val loss: 1.447874\n",
      "(Epoch 42 / 50) train loss: 1.154428; val loss: 1.448223\n",
      "(Epoch 43 / 50) train loss: 1.145064; val loss: 1.445817\n",
      "(Epoch 44 / 50) train loss: 1.137297; val loss: 1.446603\n",
      "(Epoch 45 / 50) train loss: 1.130576; val loss: 1.442569\n",
      "(Epoch 46 / 50) train loss: 1.122045; val loss: 1.447064\n",
      "(Epoch 47 / 50) train loss: 1.114486; val loss: 1.444086\n",
      "(Epoch 48 / 50) train loss: 1.107190; val loss: 1.445332\n",
      "(Epoch 49 / 50) train loss: 1.099523; val loss: 1.444498\n",
      "(Epoch 50 / 50) train loss: 1.091901; val loss: 1.445250\n",
      "Stopping early at epoch 49!\n",
      "\n",
      "Evaluating Config #5 [of 10]:\n",
      " {'learning_rate': 0.0001, 'reg': 3.3194014227645486e-07, 'activation': <exercise_code.networks.layer.LeakyRelu object at 0x7f826a088df0>, 'hidden_size': 109, 'loss_func': <exercise_code.networks.loss.CrossEntropyFromLogits object at 0x7f826a088d30>, 'num_layer': 2, 'optimizer': <class 'exercise_code.networks.optimizer.Adam'>, 'lr_decay': 1}\n",
      "(Epoch 1 / 50) train loss: 2.302642; val loss: 2.302643\n",
      "(Epoch 2 / 50) train loss: 2.120794; val loss: 1.957569\n",
      "(Epoch 3 / 50) train loss: 1.874378; val loss: 1.831666\n",
      "(Epoch 4 / 50) train loss: 1.777682; val loss: 1.762799\n",
      "(Epoch 5 / 50) train loss: 1.716367; val loss: 1.715338\n",
      "(Epoch 6 / 50) train loss: 1.668898; val loss: 1.677079\n",
      "(Epoch 7 / 50) train loss: 1.629227; val loss: 1.647084\n",
      "(Epoch 8 / 50) train loss: 1.594932; val loss: 1.620931\n",
      "(Epoch 9 / 50) train loss: 1.564471; val loss: 1.601022\n",
      "(Epoch 10 / 50) train loss: 1.538501; val loss: 1.583705\n",
      "(Epoch 11 / 50) train loss: 1.515734; val loss: 1.569164\n",
      "(Epoch 12 / 50) train loss: 1.495622; val loss: 1.558227\n",
      "(Epoch 13 / 50) train loss: 1.476304; val loss: 1.545652\n",
      "(Epoch 14 / 50) train loss: 1.458546; val loss: 1.537540\n",
      "(Epoch 15 / 50) train loss: 1.442871; val loss: 1.529664\n",
      "(Epoch 16 / 50) train loss: 1.426985; val loss: 1.523687\n",
      "(Epoch 17 / 50) train loss: 1.412209; val loss: 1.519298\n",
      "(Epoch 18 / 50) train loss: 1.398180; val loss: 1.509664\n",
      "(Epoch 19 / 50) train loss: 1.384964; val loss: 1.505819\n",
      "(Epoch 20 / 50) train loss: 1.372000; val loss: 1.502552\n",
      "(Epoch 21 / 50) train loss: 1.358893; val loss: 1.497471\n",
      "(Epoch 22 / 50) train loss: 1.346514; val loss: 1.494474\n",
      "(Epoch 23 / 50) train loss: 1.334159; val loss: 1.487715\n",
      "(Epoch 24 / 50) train loss: 1.323531; val loss: 1.481840\n",
      "(Epoch 25 / 50) train loss: 1.311892; val loss: 1.481706\n",
      "(Epoch 26 / 50) train loss: 1.301728; val loss: 1.478263\n",
      "(Epoch 27 / 50) train loss: 1.290821; val loss: 1.474504\n",
      "(Epoch 28 / 50) train loss: 1.280056; val loss: 1.473915\n",
      "(Epoch 29 / 50) train loss: 1.271142; val loss: 1.466665\n",
      "(Epoch 30 / 50) train loss: 1.261308; val loss: 1.465273\n",
      "(Epoch 31 / 50) train loss: 1.251520; val loss: 1.468876\n",
      "(Epoch 32 / 50) train loss: 1.241302; val loss: 1.461951\n",
      "(Epoch 33 / 50) train loss: 1.231676; val loss: 1.461866\n",
      "(Epoch 34 / 50) train loss: 1.222900; val loss: 1.456921\n",
      "(Epoch 35 / 50) train loss: 1.212272; val loss: 1.455516\n",
      "(Epoch 36 / 50) train loss: 1.204620; val loss: 1.455395\n",
      "(Epoch 37 / 50) train loss: 1.194098; val loss: 1.454276\n",
      "(Epoch 38 / 50) train loss: 1.186017; val loss: 1.454684\n",
      "(Epoch 39 / 50) train loss: 1.177927; val loss: 1.452319\n",
      "(Epoch 40 / 50) train loss: 1.168757; val loss: 1.453265\n",
      "(Epoch 41 / 50) train loss: 1.161417; val loss: 1.450301\n",
      "(Epoch 42 / 50) train loss: 1.152622; val loss: 1.449794\n",
      "(Epoch 43 / 50) train loss: 1.145349; val loss: 1.453106\n",
      "(Epoch 44 / 50) train loss: 1.137528; val loss: 1.450982\n",
      "(Epoch 45 / 50) train loss: 1.128717; val loss: 1.454275\n",
      "(Epoch 46 / 50) train loss: 1.120193; val loss: 1.451042\n",
      "(Epoch 47 / 50) train loss: 1.114370; val loss: 1.450420\n",
      "Stopping early at epoch 46!\n",
      "\n",
      "Evaluating Config #6 [of 10]:\n",
      " {'learning_rate': 0.0001, 'reg': 7.870951581018837e-06, 'activation': <exercise_code.networks.layer.LeakyRelu object at 0x7f826a088df0>, 'hidden_size': 109, 'loss_func': <exercise_code.networks.loss.CrossEntropyFromLogits object at 0x7f826a088d30>, 'num_layer': 2, 'optimizer': <class 'exercise_code.networks.optimizer.Adam'>, 'lr_decay': 1}\n",
      "(Epoch 1 / 50) train loss: 2.302582; val loss: 2.302583\n",
      "(Epoch 2 / 50) train loss: 2.116425; val loss: 1.952091\n",
      "(Epoch 3 / 50) train loss: 1.870265; val loss: 1.827325\n"
     ]
    },
    {
     "name": "stdout",
     "output_type": "stream",
     "text": [
      "(Epoch 4 / 50) train loss: 1.773816; val loss: 1.758085\n",
      "(Epoch 5 / 50) train loss: 1.712011; val loss: 1.711513\n",
      "(Epoch 6 / 50) train loss: 1.666164; val loss: 1.677886\n",
      "(Epoch 7 / 50) train loss: 1.627688; val loss: 1.645550\n",
      "(Epoch 8 / 50) train loss: 1.595063; val loss: 1.623944\n",
      "(Epoch 9 / 50) train loss: 1.566884; val loss: 1.603764\n",
      "(Epoch 10 / 50) train loss: 1.541494; val loss: 1.586351\n",
      "(Epoch 11 / 50) train loss: 1.518280; val loss: 1.573385\n",
      "(Epoch 12 / 50) train loss: 1.497996; val loss: 1.559228\n",
      "(Epoch 13 / 50) train loss: 1.479241; val loss: 1.550853\n",
      "(Epoch 14 / 50) train loss: 1.460541; val loss: 1.541011\n",
      "(Epoch 15 / 50) train loss: 1.443676; val loss: 1.531381\n",
      "(Epoch 16 / 50) train loss: 1.427371; val loss: 1.521590\n",
      "(Epoch 17 / 50) train loss: 1.412887; val loss: 1.514949\n",
      "(Epoch 18 / 50) train loss: 1.398882; val loss: 1.506432\n",
      "(Epoch 19 / 50) train loss: 1.383530; val loss: 1.504677\n",
      "(Epoch 20 / 50) train loss: 1.370195; val loss: 1.495170\n",
      "(Epoch 21 / 50) train loss: 1.357167; val loss: 1.489548\n",
      "(Epoch 22 / 50) train loss: 1.344388; val loss: 1.487850\n",
      "(Epoch 23 / 50) train loss: 1.331375; val loss: 1.482243\n",
      "(Epoch 24 / 50) train loss: 1.320364; val loss: 1.477759\n",
      "(Epoch 25 / 50) train loss: 1.308034; val loss: 1.472252\n",
      "(Epoch 26 / 50) train loss: 1.297211; val loss: 1.469821\n",
      "(Epoch 27 / 50) train loss: 1.285170; val loss: 1.464997\n",
      "(Epoch 28 / 50) train loss: 1.274476; val loss: 1.464028\n",
      "(Epoch 29 / 50) train loss: 1.264197; val loss: 1.463997\n",
      "(Epoch 30 / 50) train loss: 1.254016; val loss: 1.457449\n",
      "(Epoch 31 / 50) train loss: 1.244502; val loss: 1.453883\n",
      "(Epoch 32 / 50) train loss: 1.234963; val loss: 1.453481\n",
      "(Epoch 33 / 50) train loss: 1.224834; val loss: 1.452214\n",
      "(Epoch 34 / 50) train loss: 1.216328; val loss: 1.449548\n",
      "(Epoch 35 / 50) train loss: 1.206963; val loss: 1.449531\n",
      "(Epoch 36 / 50) train loss: 1.197892; val loss: 1.450854\n",
      "(Epoch 37 / 50) train loss: 1.190082; val loss: 1.447513\n",
      "(Epoch 38 / 50) train loss: 1.180720; val loss: 1.448193\n",
      "(Epoch 39 / 50) train loss: 1.172004; val loss: 1.446940\n",
      "(Epoch 40 / 50) train loss: 1.163488; val loss: 1.446771\n",
      "(Epoch 41 / 50) train loss: 1.156486; val loss: 1.447931\n",
      "(Epoch 42 / 50) train loss: 1.148428; val loss: 1.447123\n",
      "(Epoch 43 / 50) train loss: 1.141036; val loss: 1.444935\n",
      "(Epoch 44 / 50) train loss: 1.133839; val loss: 1.447194\n",
      "(Epoch 45 / 50) train loss: 1.125428; val loss: 1.446432\n",
      "(Epoch 46 / 50) train loss: 1.117746; val loss: 1.447150\n",
      "(Epoch 47 / 50) train loss: 1.108714; val loss: 1.446196\n",
      "(Epoch 48 / 50) train loss: 1.102596; val loss: 1.449227\n",
      "Stopping early at epoch 47!\n",
      "\n",
      "Evaluating Config #7 [of 10]:\n",
      " {'learning_rate': 0.0001, 'reg': 3.4282784038506717e-07, 'activation': <exercise_code.networks.layer.LeakyRelu object at 0x7f826a088df0>, 'hidden_size': 109, 'loss_func': <exercise_code.networks.loss.CrossEntropyFromLogits object at 0x7f826a088d30>, 'num_layer': 2, 'optimizer': <class 'exercise_code.networks.optimizer.Adam'>, 'lr_decay': 1}\n",
      "(Epoch 1 / 50) train loss: 2.302550; val loss: 2.302550\n",
      "(Epoch 2 / 50) train loss: 2.119167; val loss: 1.959766\n",
      "(Epoch 3 / 50) train loss: 1.875512; val loss: 1.830364\n",
      "(Epoch 4 / 50) train loss: 1.776638; val loss: 1.757262\n",
      "(Epoch 5 / 50) train loss: 1.712019; val loss: 1.710676\n",
      "(Epoch 6 / 50) train loss: 1.663965; val loss: 1.672843\n",
      "(Epoch 7 / 50) train loss: 1.625172; val loss: 1.644735\n",
      "(Epoch 8 / 50) train loss: 1.591076; val loss: 1.619665\n",
      "(Epoch 9 / 50) train loss: 1.563952; val loss: 1.600547\n",
      "(Epoch 10 / 50) train loss: 1.537784; val loss: 1.585767\n",
      "(Epoch 11 / 50) train loss: 1.516904; val loss: 1.574406\n",
      "(Epoch 12 / 50) train loss: 1.496449; val loss: 1.558530\n",
      "(Epoch 13 / 50) train loss: 1.478623; val loss: 1.550885\n",
      "(Epoch 14 / 50) train loss: 1.460752; val loss: 1.540008\n",
      "(Epoch 15 / 50) train loss: 1.444747; val loss: 1.532335\n",
      "(Epoch 16 / 50) train loss: 1.428643; val loss: 1.523531\n",
      "(Epoch 17 / 50) train loss: 1.414347; val loss: 1.517983\n",
      "(Epoch 18 / 50) train loss: 1.401092; val loss: 1.511010\n",
      "(Epoch 19 / 50) train loss: 1.387787; val loss: 1.505832\n",
      "(Epoch 20 / 50) train loss: 1.374631; val loss: 1.501146\n",
      "(Epoch 21 / 50) train loss: 1.362095; val loss: 1.499311\n",
      "(Epoch 22 / 50) train loss: 1.350358; val loss: 1.492544\n",
      "(Epoch 23 / 50) train loss: 1.338625; val loss: 1.489826\n",
      "(Epoch 24 / 50) train loss: 1.327544; val loss: 1.484905\n",
      "(Epoch 25 / 50) train loss: 1.316189; val loss: 1.484461\n",
      "(Epoch 26 / 50) train loss: 1.304820; val loss: 1.480102\n",
      "(Epoch 27 / 50) train loss: 1.295263; val loss: 1.474951\n",
      "(Epoch 28 / 50) train loss: 1.284845; val loss: 1.473634\n",
      "(Epoch 29 / 50) train loss: 1.274594; val loss: 1.470506\n",
      "(Epoch 30 / 50) train loss: 1.264295; val loss: 1.469716\n",
      "(Epoch 31 / 50) train loss: 1.255332; val loss: 1.466648\n",
      "(Epoch 32 / 50) train loss: 1.245453; val loss: 1.466085\n",
      "(Epoch 33 / 50) train loss: 1.236250; val loss: 1.465379\n",
      "(Epoch 34 / 50) train loss: 1.226787; val loss: 1.464308\n",
      "(Epoch 35 / 50) train loss: 1.217653; val loss: 1.460034\n",
      "(Epoch 36 / 50) train loss: 1.209235; val loss: 1.461211\n",
      "(Epoch 37 / 50) train loss: 1.200014; val loss: 1.458662\n",
      "(Epoch 38 / 50) train loss: 1.191116; val loss: 1.458274\n",
      "(Epoch 39 / 50) train loss: 1.183294; val loss: 1.455533\n",
      "(Epoch 40 / 50) train loss: 1.175246; val loss: 1.454719\n",
      "(Epoch 41 / 50) train loss: 1.167209; val loss: 1.455875\n",
      "(Epoch 42 / 50) train loss: 1.158621; val loss: 1.459760\n",
      "(Epoch 43 / 50) train loss: 1.151652; val loss: 1.455838\n",
      "(Epoch 44 / 50) train loss: 1.143298; val loss: 1.453159\n",
      "(Epoch 45 / 50) train loss: 1.136162; val loss: 1.456196\n",
      "(Epoch 46 / 50) train loss: 1.128364; val loss: 1.458643\n",
      "(Epoch 47 / 50) train loss: 1.120677; val loss: 1.457158\n",
      "(Epoch 48 / 50) train loss: 1.113618; val loss: 1.455733\n",
      "(Epoch 49 / 50) train loss: 1.105699; val loss: 1.456855\n",
      "Stopping early at epoch 48!\n",
      "\n",
      "Evaluating Config #8 [of 10]:\n",
      " {'learning_rate': 0.0001, 'reg': 5.210474217962319e-07, 'activation': <exercise_code.networks.layer.LeakyRelu object at 0x7f826a088df0>, 'hidden_size': 109, 'loss_func': <exercise_code.networks.loss.CrossEntropyFromLogits object at 0x7f826a088d30>, 'num_layer': 2, 'optimizer': <class 'exercise_code.networks.optimizer.Adam'>, 'lr_decay': 1}\n",
      "(Epoch 1 / 50) train loss: 2.302613; val loss: 2.302610\n",
      "(Epoch 2 / 50) train loss: 2.116182; val loss: 1.954001\n",
      "(Epoch 3 / 50) train loss: 1.869849; val loss: 1.825975\n",
      "(Epoch 4 / 50) train loss: 1.771566; val loss: 1.758839\n",
      "(Epoch 5 / 50) train loss: 1.710495; val loss: 1.710508\n",
      "(Epoch 6 / 50) train loss: 1.664545; val loss: 1.676545\n",
      "(Epoch 7 / 50) train loss: 1.626624; val loss: 1.647480\n",
      "(Epoch 8 / 50) train loss: 1.594393; val loss: 1.623701\n",
      "(Epoch 9 / 50) train loss: 1.565680; val loss: 1.606399\n",
      "(Epoch 10 / 50) train loss: 1.540743; val loss: 1.586647\n",
      "(Epoch 11 / 50) train loss: 1.518481; val loss: 1.575663\n",
      "(Epoch 12 / 50) train loss: 1.497731; val loss: 1.560032\n",
      "(Epoch 13 / 50) train loss: 1.478890; val loss: 1.550949\n",
      "(Epoch 14 / 50) train loss: 1.460909; val loss: 1.541570\n",
      "(Epoch 15 / 50) train loss: 1.445156; val loss: 1.532333\n",
      "(Epoch 16 / 50) train loss: 1.428465; val loss: 1.524536\n",
      "(Epoch 17 / 50) train loss: 1.413680; val loss: 1.517108\n",
      "(Epoch 18 / 50) train loss: 1.399949; val loss: 1.511914\n",
      "(Epoch 19 / 50) train loss: 1.387191; val loss: 1.505787\n",
      "(Epoch 20 / 50) train loss: 1.373241; val loss: 1.497917\n",
      "(Epoch 21 / 50) train loss: 1.359924; val loss: 1.490512\n",
      "(Epoch 22 / 50) train loss: 1.346905; val loss: 1.486720\n",
      "(Epoch 23 / 50) train loss: 1.335294; val loss: 1.483151\n",
      "(Epoch 24 / 50) train loss: 1.323667; val loss: 1.479642\n",
      "(Epoch 25 / 50) train loss: 1.312165; val loss: 1.473728\n",
      "(Epoch 26 / 50) train loss: 1.300905; val loss: 1.470039\n",
      "(Epoch 27 / 50) train loss: 1.289982; val loss: 1.468857\n",
      "(Epoch 28 / 50) train loss: 1.280215; val loss: 1.471075\n",
      "(Epoch 29 / 50) train loss: 1.269743; val loss: 1.461420\n",
      "(Epoch 30 / 50) train loss: 1.259373; val loss: 1.460028\n",
      "(Epoch 31 / 50) train loss: 1.248810; val loss: 1.455533\n",
      "(Epoch 32 / 50) train loss: 1.239766; val loss: 1.454164\n",
      "(Epoch 33 / 50) train loss: 1.230907; val loss: 1.452792\n",
      "(Epoch 34 / 50) train loss: 1.221784; val loss: 1.450504\n",
      "(Epoch 35 / 50) train loss: 1.211816; val loss: 1.450885\n",
      "(Epoch 36 / 50) train loss: 1.203812; val loss: 1.446258\n",
      "(Epoch 37 / 50) train loss: 1.194832; val loss: 1.446210\n"
     ]
    },
    {
     "name": "stdout",
     "output_type": "stream",
     "text": [
      "(Epoch 38 / 50) train loss: 1.186489; val loss: 1.448925\n",
      "(Epoch 39 / 50) train loss: 1.177659; val loss: 1.445481\n",
      "(Epoch 40 / 50) train loss: 1.169735; val loss: 1.445147\n",
      "(Epoch 41 / 50) train loss: 1.161599; val loss: 1.444541\n",
      "(Epoch 42 / 50) train loss: 1.153608; val loss: 1.444312\n",
      "(Epoch 43 / 50) train loss: 1.145538; val loss: 1.443291\n",
      "(Epoch 44 / 50) train loss: 1.138224; val loss: 1.440873\n",
      "(Epoch 45 / 50) train loss: 1.130396; val loss: 1.445232\n",
      "(Epoch 46 / 50) train loss: 1.122595; val loss: 1.444806\n",
      "(Epoch 47 / 50) train loss: 1.115024; val loss: 1.443978\n",
      "(Epoch 48 / 50) train loss: 1.108325; val loss: 1.449825\n",
      "(Epoch 49 / 50) train loss: 1.101042; val loss: 1.445337\n",
      "Stopping early at epoch 48!\n",
      "\n",
      "Evaluating Config #9 [of 10]:\n",
      " {'learning_rate': 0.0001, 'reg': 2.0090752073815184e-06, 'activation': <exercise_code.networks.layer.LeakyRelu object at 0x7f826a088df0>, 'hidden_size': 109, 'loss_func': <exercise_code.networks.loss.CrossEntropyFromLogits object at 0x7f826a088d30>, 'num_layer': 2, 'optimizer': <class 'exercise_code.networks.optimizer.Adam'>, 'lr_decay': 1}\n",
      "(Epoch 1 / 50) train loss: 2.302646; val loss: 2.302639\n",
      "(Epoch 2 / 50) train loss: 2.121270; val loss: 1.958862\n",
      "(Epoch 3 / 50) train loss: 1.874925; val loss: 1.831606\n",
      "(Epoch 4 / 50) train loss: 1.780112; val loss: 1.765033\n",
      "(Epoch 5 / 50) train loss: 1.718895; val loss: 1.717228\n",
      "(Epoch 6 / 50) train loss: 1.670133; val loss: 1.679588\n",
      "(Epoch 7 / 50) train loss: 1.630134; val loss: 1.646214\n",
      "(Epoch 8 / 50) train loss: 1.595562; val loss: 1.622766\n",
      "(Epoch 9 / 50) train loss: 1.565318; val loss: 1.601450\n",
      "(Epoch 10 / 50) train loss: 1.539287; val loss: 1.586063\n",
      "(Epoch 11 / 50) train loss: 1.516066; val loss: 1.570509\n",
      "(Epoch 12 / 50) train loss: 1.494871; val loss: 1.558441\n",
      "(Epoch 13 / 50) train loss: 1.476041; val loss: 1.549069\n",
      "(Epoch 14 / 50) train loss: 1.457346; val loss: 1.536910\n",
      "(Epoch 15 / 50) train loss: 1.440514; val loss: 1.529672\n",
      "(Epoch 16 / 50) train loss: 1.425782; val loss: 1.521958\n",
      "(Epoch 17 / 50) train loss: 1.410439; val loss: 1.517546\n",
      "(Epoch 18 / 50) train loss: 1.396592; val loss: 1.510642\n",
      "(Epoch 19 / 50) train loss: 1.382616; val loss: 1.503945\n",
      "(Epoch 20 / 50) train loss: 1.369271; val loss: 1.498591\n",
      "(Epoch 21 / 50) train loss: 1.355592; val loss: 1.492918\n",
      "(Epoch 22 / 50) train loss: 1.343868; val loss: 1.488042\n",
      "(Epoch 23 / 50) train loss: 1.332888; val loss: 1.487175\n",
      "(Epoch 24 / 50) train loss: 1.320550; val loss: 1.479918\n",
      "(Epoch 25 / 50) train loss: 1.309278; val loss: 1.479036\n",
      "(Epoch 26 / 50) train loss: 1.299691; val loss: 1.473400\n",
      "(Epoch 27 / 50) train loss: 1.288008; val loss: 1.470444\n",
      "(Epoch 28 / 50) train loss: 1.277625; val loss: 1.468462\n",
      "(Epoch 29 / 50) train loss: 1.267386; val loss: 1.464720\n",
      "(Epoch 30 / 50) train loss: 1.258781; val loss: 1.463663\n",
      "(Epoch 31 / 50) train loss: 1.247846; val loss: 1.465760\n",
      "(Epoch 32 / 50) train loss: 1.238785; val loss: 1.462683\n",
      "(Epoch 33 / 50) train loss: 1.230203; val loss: 1.460619\n",
      "(Epoch 34 / 50) train loss: 1.220609; val loss: 1.458151\n",
      "(Epoch 35 / 50) train loss: 1.213334; val loss: 1.457402\n",
      "(Epoch 36 / 50) train loss: 1.203781; val loss: 1.455371\n",
      "(Epoch 37 / 50) train loss: 1.195912; val loss: 1.458840\n",
      "(Epoch 38 / 50) train loss: 1.187585; val loss: 1.455932\n",
      "(Epoch 39 / 50) train loss: 1.178168; val loss: 1.453980\n",
      "(Epoch 40 / 50) train loss: 1.170093; val loss: 1.453325\n",
      "(Epoch 41 / 50) train loss: 1.162422; val loss: 1.453819\n",
      "(Epoch 42 / 50) train loss: 1.154604; val loss: 1.452929\n",
      "(Epoch 43 / 50) train loss: 1.146688; val loss: 1.454132\n",
      "(Epoch 44 / 50) train loss: 1.138053; val loss: 1.453025\n",
      "(Epoch 45 / 50) train loss: 1.131891; val loss: 1.451843\n",
      "(Epoch 46 / 50) train loss: 1.123714; val loss: 1.454413\n",
      "(Epoch 47 / 50) train loss: 1.116091; val loss: 1.455822\n",
      "(Epoch 48 / 50) train loss: 1.108044; val loss: 1.453320\n",
      "(Epoch 49 / 50) train loss: 1.101838; val loss: 1.453901\n",
      "(Epoch 50 / 50) train loss: 1.094041; val loss: 1.457206\n",
      "Stopping early at epoch 49!\n",
      "\n",
      "Evaluating Config #10 [of 10]:\n",
      " {'learning_rate': 0.0001, 'reg': 4.477514941193638e-07, 'activation': <exercise_code.networks.layer.LeakyRelu object at 0x7f826a088df0>, 'hidden_size': 109, 'loss_func': <exercise_code.networks.loss.CrossEntropyFromLogits object at 0x7f826a088d30>, 'num_layer': 2, 'optimizer': <class 'exercise_code.networks.optimizer.Adam'>, 'lr_decay': 1}\n",
      "(Epoch 1 / 50) train loss: 2.302550; val loss: 2.302558\n",
      "(Epoch 2 / 50) train loss: 2.120066; val loss: 1.959085\n",
      "(Epoch 3 / 50) train loss: 1.874364; val loss: 1.830936\n",
      "(Epoch 4 / 50) train loss: 1.776961; val loss: 1.761878\n",
      "(Epoch 5 / 50) train loss: 1.714091; val loss: 1.710220\n",
      "(Epoch 6 / 50) train loss: 1.665034; val loss: 1.671759\n",
      "(Epoch 7 / 50) train loss: 1.624845; val loss: 1.642603\n",
      "(Epoch 8 / 50) train loss: 1.590332; val loss: 1.618760\n",
      "(Epoch 9 / 50) train loss: 1.561350; val loss: 1.599875\n",
      "(Epoch 10 / 50) train loss: 1.536779; val loss: 1.585092\n",
      "(Epoch 11 / 50) train loss: 1.514096; val loss: 1.570011\n",
      "(Epoch 12 / 50) train loss: 1.493940; val loss: 1.558514\n",
      "(Epoch 13 / 50) train loss: 1.474538; val loss: 1.548878\n",
      "(Epoch 14 / 50) train loss: 1.457711; val loss: 1.539231\n",
      "(Epoch 15 / 50) train loss: 1.441547; val loss: 1.529276\n",
      "(Epoch 16 / 50) train loss: 1.425810; val loss: 1.521835\n",
      "(Epoch 17 / 50) train loss: 1.411278; val loss: 1.515214\n",
      "(Epoch 18 / 50) train loss: 1.397059; val loss: 1.509067\n",
      "(Epoch 19 / 50) train loss: 1.384313; val loss: 1.504632\n",
      "(Epoch 20 / 50) train loss: 1.371369; val loss: 1.495602\n",
      "(Epoch 21 / 50) train loss: 1.357320; val loss: 1.491176\n",
      "(Epoch 22 / 50) train loss: 1.344473; val loss: 1.487396\n",
      "(Epoch 23 / 50) train loss: 1.333356; val loss: 1.482899\n",
      "(Epoch 24 / 50) train loss: 1.321943; val loss: 1.476419\n",
      "(Epoch 25 / 50) train loss: 1.309828; val loss: 1.474450\n",
      "(Epoch 26 / 50) train loss: 1.298516; val loss: 1.472014\n",
      "(Epoch 27 / 50) train loss: 1.287330; val loss: 1.468638\n",
      "(Epoch 28 / 50) train loss: 1.277123; val loss: 1.463852\n",
      "(Epoch 29 / 50) train loss: 1.266282; val loss: 1.462332\n",
      "(Epoch 30 / 50) train loss: 1.255400; val loss: 1.457967\n",
      "(Epoch 31 / 50) train loss: 1.246004; val loss: 1.458957\n",
      "(Epoch 32 / 50) train loss: 1.236354; val loss: 1.454769\n",
      "(Epoch 33 / 50) train loss: 1.225976; val loss: 1.452409\n",
      "(Epoch 34 / 50) train loss: 1.216566; val loss: 1.451203\n",
      "(Epoch 35 / 50) train loss: 1.208819; val loss: 1.451805\n",
      "(Epoch 36 / 50) train loss: 1.200325; val loss: 1.449619\n",
      "(Epoch 37 / 50) train loss: 1.190533; val loss: 1.447932\n",
      "(Epoch 38 / 50) train loss: 1.182584; val loss: 1.452356\n",
      "(Epoch 39 / 50) train loss: 1.174959; val loss: 1.447694\n",
      "(Epoch 40 / 50) train loss: 1.165488; val loss: 1.452351\n",
      "(Epoch 41 / 50) train loss: 1.157486; val loss: 1.447721\n",
      "(Epoch 42 / 50) train loss: 1.150055; val loss: 1.448458\n",
      "(Epoch 43 / 50) train loss: 1.141307; val loss: 1.444717\n",
      "(Epoch 44 / 50) train loss: 1.133714; val loss: 1.446726\n",
      "(Epoch 45 / 50) train loss: 1.124983; val loss: 1.447295\n",
      "(Epoch 46 / 50) train loss: 1.118993; val loss: 1.448385\n",
      "(Epoch 47 / 50) train loss: 1.110266; val loss: 1.451990\n",
      "(Epoch 48 / 50) train loss: 1.103042; val loss: 1.448897\n",
      "Stopping early at epoch 47!\n",
      "\n",
      "Search done. Best Val Loss = 1.4408726755485608\n",
      "Best Config: {'learning_rate': 0.0001, 'reg': 5.210474217962319e-07, 'activation': <exercise_code.networks.layer.LeakyRelu object at 0x7f826a088df0>, 'hidden_size': 109, 'loss_func': <exercise_code.networks.loss.CrossEntropyFromLogits object at 0x7f826a088d30>, 'num_layer': 2, 'optimizer': <class 'exercise_code.networks.optimizer.Adam'>, 'lr_decay': 1}\n"
     ]
    }
   ],
   "source": [
    "from exercise_code.networks import MyOwnNetwork\n",
    "\n",
    "best_model = ClassificationNet()\n",
    "# best_model = MyOwnNetwork()\n",
    "\n",
    "########################################################################\n",
    "# TODO:                                                                #\n",
    "# Implement your own neural network and find suitable hyperparameters  #\n",
    "# Be sure to edit the MyOwnNetwork class in the following code snippet #\n",
    "# to upload the correct model!                                         #\n",
    "########################################################################\n",
    "\n",
    "best_model, results = random_search(\n",
    "   dataloaders['train'], dataloaders['val'],\n",
    "   random_search_spaces = {\n",
    "       \"learning_rate\": ([1e-4], 'log'),\n",
    "       \"reg\": ([1e-5,1e-7], \"log\"),\n",
    "       \"activation\": ([LeakyRelu()], \"item\"),\n",
    "       \"hidden_size\": ([109], \"int\"),\n",
    "       \"loss_func\": ([CrossEntropyFromLogits()], \"item\"),\n",
    "       \"num_layer\": ([2], \"item\"),\n",
    "       \"optimizer\": ([Adam], \"item\"),\n",
    "       \"lr_decay\" : ([1], \"item\"),\n",
    "   },\n",
    "   model_class=model_class,\n",
    "   num_search = 10, epochs = 50, patience=5)\n",
    "\n",
    "########################################################################\n",
    "#                           END OF YOUR CODE                           #\n",
    "########################################################################"
   ]
  },
  {
   "cell_type": "markdown",
   "metadata": {},
   "source": [
    "Now it's time to edit the ranges above and adjust them to explore regions that performed well!\n",
    "\n",
    "Also, feel free to experiment around! Also the network architecture, optimizer options and activations functions, etc. are hyperparameters that you can change!\n",
    "\n",
    "Try to get your accuracy as high as possible! That's all what counts for this submission!\n",
    "\n",
    "You'll pass if you reach at least **48%** accuracy on our test set - but there will also be a leaderboard of all students of this course. Will you make it to the top?"
   ]
  },
  {
   "cell_type": "markdown",
   "metadata": {},
   "source": [
    "## 3.5 Checking the validation accuracy"
   ]
  },
  {
   "cell_type": "code",
   "execution_count": 96,
   "metadata": {},
   "outputs": [
    {
     "name": "stdout",
     "output_type": "stream",
     "text": [
      "Train Accuracy: 63.44150641025641%\n",
      "Validation Accuracy: 49.96995192307692%\n"
     ]
    }
   ],
   "source": [
    "labels, pred, acc = best_model.get_dataset_prediction(dataloaders['train'])\n",
    "print(\"Train Accuracy: {}%\".format(acc*100))\n",
    "labels, pred, acc = best_model.get_dataset_prediction(dataloaders['val'])\n",
    "print(\"Validation Accuracy: {}%\".format(acc*100))"
   ]
  },
  {
   "cell_type": "markdown",
   "metadata": {},
   "source": [
    "# 4. Test your model\n",
    "When you have finished your hyperparameter tuning and are sure you have your final model that performs well on the validation set (**you should at least get 48% accuracy on the validation set!**), it's time to run your  model on the test set.\n",
    "\n",
    "<div class=\"alert alert-danger\">\n",
    "    <h3>Important</h3>\n",
    "    <p>As you have learned in the lecture, you must only use the test set one single time! So only run the next cell if you are really sure your model works well enough and that you want to submit. Your test set is different from the test set on our server, so results may vary. Nevertheless, you will have a reasonable close approximation about your performance if you only do a final evaluation on the test set.</p>\n",
    "    <p>If you are an external student that can't use our submission webpage: this test performance is your final result and if you surpassed the threshold, you have completed this exercise :). Now, train again to aim for a better number!</p>\n",
    "</div>"
   ]
  },
  {
   "cell_type": "code",
   "execution_count": 97,
   "metadata": {},
   "outputs": [
    {
     "name": "stdout",
     "output_type": "stream",
     "text": [
      "Test Accuracy: 49.559294871794876%\n"
     ]
    }
   ],
   "source": [
    "# comment this part out to see your model's performance on the test set.\n",
    "labels, pred, acc = best_model.get_dataset_prediction(dataloaders['test'])\n",
    "print(\"Test Accuracy: {}%\".format(acc*100))\n"
   ]
  },
  {
   "cell_type": "markdown",
   "metadata": {},
   "source": [
    "<div class=\"alert alert-warning\">\n",
    "    <h3>Note:</h3>\n",
    "    <p>The \"real\" test set is actually the dataset we're using for testing your model, which is <b>different</b> from the test-set you're using here.</p>\n",
    "</div>"
   ]
  },
  {
   "cell_type": "markdown",
   "metadata": {},
   "source": [
    "# 5. Saving your Model"
   ]
  },
  {
   "cell_type": "code",
   "execution_count": 98,
   "metadata": {},
   "outputs": [],
   "source": [
    "from exercise_code.tests import save_pickle\n",
    "save_pickle({\"cifar_fcn\": best_model}, \"cifar_fcn.p\")"
   ]
  },
  {
   "cell_type": "code",
   "execution_count": 99,
   "metadata": {},
   "outputs": [
    {
     "name": "stdout",
     "output_type": "stream",
     "text": [
      "relevant folders: ['exercise_code', 'models']\n",
      "notebooks files: ['1.cifar10_classification.ipynb']\n",
      "Adding folder exercise_code\n",
      "Adding folder models\n",
      "Adding notebook 1.cifar10_classification.ipynb\n",
      "Zipping successful! Zip is stored under: /Users/penny/Desktop/研一/DL/exercise_06_cleaned 2/exercise06.zip\n"
     ]
    }
   ],
   "source": [
    "from exercise_code.submit import submit_exercise\n",
    "\n",
    "submit_exercise('exercise06')"
   ]
  },
  {
   "cell_type": "markdown",
   "metadata": {},
   "source": [
    "# 6. Submission Instructions\n",
    "\n",
    "Congratulations! You've just built your first image classifier! To complete the exercise, submit your final model to our submission portal - you probably know the procedure by now.\n",
    "\n",
    "1. Go on [our submission page](https://i2dl.vc.in.tum.de/), register for an account and login. We use your matriculation number and send an email with the login details to the mail account associated. When in doubt, login into tum-online and check your mails there. You will get an id which we need in the next step.\n",
    "2. Log into [our submission page](https://i2dl.vc.in.tum.de/) with your account details and upload the zip file.\n",
    "3. Your submission will be evaluated by our system and you will get feedback about the performance of it. You will get an email with your score as well as a message if you have surpassed the threshold.\n",
    "4. Within the working period, you can submit as many solutions as you want to get the best possible score.\n",
    "\n",
    "\n",
    "# 7. Submission Goals\n",
    "\n",
    "- Goal: Successfully implement a fully connected NN image classifier, tune hyperparameters.\n",
    "\n",
    "- Passing Criteria: This time, there are no unit tests that check specific components of your code. The only thing that's required to pass the submission, is your model to reach at least **48% accuracy** on __our__ test dataset. The submission system will show you a number between 0 and 100 which corresponds to your accuracy.\n",
    "\n",
    "- Submission start: __Nov 25, 2021 13:00:00__\n",
    "- Submission deadline : __Dec 01, 2021 15:59:59__ \n",
    "- You can make **$\\infty$** submissions until the deadline. Your __best submission__ will be considered for bonus"
   ]
  },
  {
   "cell_type": "code",
   "execution_count": null,
   "metadata": {},
   "outputs": [],
   "source": []
  }
 ],
 "metadata": {
  "kernelspec": {
   "display_name": "Python 3",
   "language": "python",
   "name": "python3"
  },
  "language_info": {
   "codemirror_mode": {
    "name": "ipython",
    "version": 3
   },
   "file_extension": ".py",
   "mimetype": "text/x-python",
   "name": "python",
   "nbconvert_exporter": "python",
   "pygments_lexer": "ipython3",
   "version": "3.8.3"
  }
 },
 "nbformat": 4,
 "nbformat_minor": 1
}
